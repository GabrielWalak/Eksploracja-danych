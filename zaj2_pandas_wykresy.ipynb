{
  "cells": [
    {
      "cell_type": "markdown",
      "metadata": {
        "id": "view-in-github",
        "colab_type": "text"
      },
      "source": [
        "<a href=\"https://colab.research.google.com/github/GabrielWalak/Eksploracja-danych/blob/main/zaj2_pandas_wykresy.ipynb\" target=\"_parent\"><img src=\"https://colab.research.google.com/assets/colab-badge.svg\" alt=\"Open In Colab\"/></a>"
      ]
    },
    {
      "source": [
        "import matplotlib.pyplot as plt\n",
        "import pandas as pd\n",
        "import numpy as np\n",
        "import random\n",
        "\n",
        "from IPython.display import display, HTML\n",
        "\n",
        "plt.rcParams.update({'font.size': 15})"
      ],
      "metadata": {
        "id": "9a96df53-42aa-4d4a-a936-abd170f5cb12",
        "executionCancelledAt": null,
        "executionTime": 9,
        "lastExecutedAt": 1728474259873,
        "lastExecutedByKernel": "d980cdc8-acc8-4bea-ae4a-f83d53c7976d",
        "lastScheduledRunId": null,
        "lastSuccessfullyExecutedCode": "import matplotlib.pyplot as plt\nimport pandas as pd\nimport numpy as np\nimport random\n\nfrom IPython.display import display, HTML\n\nplt.rcParams.update({'font.size': 15})"
      },
      "id": "9a96df53-42aa-4d4a-a936-abd170f5cb12",
      "cell_type": "code",
      "execution_count": null,
      "outputs": []
    },
    {
      "source": [
        "# **Pandas i wykresy**\n",
        "\n"
      ],
      "metadata": {
        "id": "a87b140b-31a1-4456-8893-e655872508c1"
      },
      "id": "a87b140b-31a1-4456-8893-e655872508c1",
      "cell_type": "markdown"
    },
    {
      "source": [
        "import pandas as pd\n",
        "\n",
        "data = {\n",
        "    \"state\": [\"Ohio\", \"Ohio\", \"Ohio\", \"Nevada\", \"Nevada\", \"Nevada\"],\n",
        "    \"year\": [2000, 2001, 2002, 2001, 2002, 2003],\n",
        "    \"pop\": [1.5, 1.7, 3.6, 2.4, 2.9, 3.2]\n",
        "    }\n",
        "\n",
        "# Tworzenie DataFrame\n",
        "frame = pd.DataFrame(data)"
      ],
      "metadata": {
        "id": "b1132daf-0a0a-4b5d-9680-33d8296de702",
        "executionCancelledAt": null,
        "executionTime": 11,
        "lastExecutedAt": 1728474233731,
        "lastExecutedByKernel": "d980cdc8-acc8-4bea-ae4a-f83d53c7976d",
        "lastScheduledRunId": null,
        "lastSuccessfullyExecutedCode": "import pandas as pd\n\ndata = {\n    \"state\": [\"Ohio\", \"Ohio\", \"Ohio\", \"Nevada\", \"Nevada\", \"Nevada\"],\n    \"year\": [2000, 2001, 2002, 2001, 2002, 2003],\n    \"pop\": [1.5, 1.7, 3.6, 2.4, 2.9, 3.2]\n    }\n\n# Tworzenie DataFrame\nframe = pd.DataFrame(data)"
      },
      "id": "b1132daf-0a0a-4b5d-9680-33d8296de702",
      "cell_type": "code",
      "execution_count": 7,
      "outputs": []
    },
    {
      "source": [
        "frame"
      ],
      "metadata": {
        "colab": {
          "base_uri": "https://localhost:8080/",
          "height": 238
        },
        "id": "e1dc730b-73b3-4ea7-b1f3-a2e0c8b732ef",
        "outputId": "7242bc96-0e48-4424-9375-006928225ad0",
        "executionCancelledAt": null,
        "executionTime": null,
        "lastExecutedAt": null,
        "lastExecutedByKernel": null,
        "lastScheduledRunId": null,
        "lastSuccessfullyExecutedCode": null,
        "outputsMetadata": {
          "0": {
            "height": 250,
            "type": "dataFrame"
          }
        }
      },
      "id": "e1dc730b-73b3-4ea7-b1f3-a2e0c8b732ef",
      "cell_type": "code",
      "execution_count": 8,
      "outputs": [
        {
          "output_type": "execute_result",
          "data": {
            "text/plain": [
              "    state  year  pop\n",
              "0    Ohio  2000  1.5\n",
              "1    Ohio  2001  1.7\n",
              "2    Ohio  2002  3.6\n",
              "3  Nevada  2001  2.4\n",
              "4  Nevada  2002  2.9\n",
              "5  Nevada  2003  3.2"
            ],
            "text/html": [
              "\n",
              "  <div id=\"df-f49ca983-1e1c-41e6-a41c-59bae607d395\" class=\"colab-df-container\">\n",
              "    <div>\n",
              "<style scoped>\n",
              "    .dataframe tbody tr th:only-of-type {\n",
              "        vertical-align: middle;\n",
              "    }\n",
              "\n",
              "    .dataframe tbody tr th {\n",
              "        vertical-align: top;\n",
              "    }\n",
              "\n",
              "    .dataframe thead th {\n",
              "        text-align: right;\n",
              "    }\n",
              "</style>\n",
              "<table border=\"1\" class=\"dataframe\">\n",
              "  <thead>\n",
              "    <tr style=\"text-align: right;\">\n",
              "      <th></th>\n",
              "      <th>state</th>\n",
              "      <th>year</th>\n",
              "      <th>pop</th>\n",
              "    </tr>\n",
              "  </thead>\n",
              "  <tbody>\n",
              "    <tr>\n",
              "      <th>0</th>\n",
              "      <td>Ohio</td>\n",
              "      <td>2000</td>\n",
              "      <td>1.5</td>\n",
              "    </tr>\n",
              "    <tr>\n",
              "      <th>1</th>\n",
              "      <td>Ohio</td>\n",
              "      <td>2001</td>\n",
              "      <td>1.7</td>\n",
              "    </tr>\n",
              "    <tr>\n",
              "      <th>2</th>\n",
              "      <td>Ohio</td>\n",
              "      <td>2002</td>\n",
              "      <td>3.6</td>\n",
              "    </tr>\n",
              "    <tr>\n",
              "      <th>3</th>\n",
              "      <td>Nevada</td>\n",
              "      <td>2001</td>\n",
              "      <td>2.4</td>\n",
              "    </tr>\n",
              "    <tr>\n",
              "      <th>4</th>\n",
              "      <td>Nevada</td>\n",
              "      <td>2002</td>\n",
              "      <td>2.9</td>\n",
              "    </tr>\n",
              "    <tr>\n",
              "      <th>5</th>\n",
              "      <td>Nevada</td>\n",
              "      <td>2003</td>\n",
              "      <td>3.2</td>\n",
              "    </tr>\n",
              "  </tbody>\n",
              "</table>\n",
              "</div>\n",
              "    <div class=\"colab-df-buttons\">\n",
              "\n",
              "  <div class=\"colab-df-container\">\n",
              "    <button class=\"colab-df-convert\" onclick=\"convertToInteractive('df-f49ca983-1e1c-41e6-a41c-59bae607d395')\"\n",
              "            title=\"Convert this dataframe to an interactive table.\"\n",
              "            style=\"display:none;\">\n",
              "\n",
              "  <svg xmlns=\"http://www.w3.org/2000/svg\" height=\"24px\" viewBox=\"0 -960 960 960\">\n",
              "    <path d=\"M120-120v-720h720v720H120Zm60-500h600v-160H180v160Zm220 220h160v-160H400v160Zm0 220h160v-160H400v160ZM180-400h160v-160H180v160Zm440 0h160v-160H620v160ZM180-180h160v-160H180v160Zm440 0h160v-160H620v160Z\"/>\n",
              "  </svg>\n",
              "    </button>\n",
              "\n",
              "  <style>\n",
              "    .colab-df-container {\n",
              "      display:flex;\n",
              "      gap: 12px;\n",
              "    }\n",
              "\n",
              "    .colab-df-convert {\n",
              "      background-color: #E8F0FE;\n",
              "      border: none;\n",
              "      border-radius: 50%;\n",
              "      cursor: pointer;\n",
              "      display: none;\n",
              "      fill: #1967D2;\n",
              "      height: 32px;\n",
              "      padding: 0 0 0 0;\n",
              "      width: 32px;\n",
              "    }\n",
              "\n",
              "    .colab-df-convert:hover {\n",
              "      background-color: #E2EBFA;\n",
              "      box-shadow: 0px 1px 2px rgba(60, 64, 67, 0.3), 0px 1px 3px 1px rgba(60, 64, 67, 0.15);\n",
              "      fill: #174EA6;\n",
              "    }\n",
              "\n",
              "    .colab-df-buttons div {\n",
              "      margin-bottom: 4px;\n",
              "    }\n",
              "\n",
              "    [theme=dark] .colab-df-convert {\n",
              "      background-color: #3B4455;\n",
              "      fill: #D2E3FC;\n",
              "    }\n",
              "\n",
              "    [theme=dark] .colab-df-convert:hover {\n",
              "      background-color: #434B5C;\n",
              "      box-shadow: 0px 1px 3px 1px rgba(0, 0, 0, 0.15);\n",
              "      filter: drop-shadow(0px 1px 2px rgba(0, 0, 0, 0.3));\n",
              "      fill: #FFFFFF;\n",
              "    }\n",
              "  </style>\n",
              "\n",
              "    <script>\n",
              "      const buttonEl =\n",
              "        document.querySelector('#df-f49ca983-1e1c-41e6-a41c-59bae607d395 button.colab-df-convert');\n",
              "      buttonEl.style.display =\n",
              "        google.colab.kernel.accessAllowed ? 'block' : 'none';\n",
              "\n",
              "      async function convertToInteractive(key) {\n",
              "        const element = document.querySelector('#df-f49ca983-1e1c-41e6-a41c-59bae607d395');\n",
              "        const dataTable =\n",
              "          await google.colab.kernel.invokeFunction('convertToInteractive',\n",
              "                                                    [key], {});\n",
              "        if (!dataTable) return;\n",
              "\n",
              "        const docLinkHtml = 'Like what you see? Visit the ' +\n",
              "          '<a target=\"_blank\" href=https://colab.research.google.com/notebooks/data_table.ipynb>data table notebook</a>'\n",
              "          + ' to learn more about interactive tables.';\n",
              "        element.innerHTML = '';\n",
              "        dataTable['output_type'] = 'display_data';\n",
              "        await google.colab.output.renderOutput(dataTable, element);\n",
              "        const docLink = document.createElement('div');\n",
              "        docLink.innerHTML = docLinkHtml;\n",
              "        element.appendChild(docLink);\n",
              "      }\n",
              "    </script>\n",
              "  </div>\n",
              "\n",
              "\n",
              "    <div id=\"df-42aa9cc9-a040-4687-98fc-bdb0fa2faff0\">\n",
              "      <button class=\"colab-df-quickchart\" onclick=\"quickchart('df-42aa9cc9-a040-4687-98fc-bdb0fa2faff0')\"\n",
              "                title=\"Suggest charts\"\n",
              "                style=\"display:none;\">\n",
              "\n",
              "<svg xmlns=\"http://www.w3.org/2000/svg\" height=\"24px\"viewBox=\"0 0 24 24\"\n",
              "     width=\"24px\">\n",
              "    <g>\n",
              "        <path d=\"M19 3H5c-1.1 0-2 .9-2 2v14c0 1.1.9 2 2 2h14c1.1 0 2-.9 2-2V5c0-1.1-.9-2-2-2zM9 17H7v-7h2v7zm4 0h-2V7h2v10zm4 0h-2v-4h2v4z\"/>\n",
              "    </g>\n",
              "</svg>\n",
              "      </button>\n",
              "\n",
              "<style>\n",
              "  .colab-df-quickchart {\n",
              "      --bg-color: #E8F0FE;\n",
              "      --fill-color: #1967D2;\n",
              "      --hover-bg-color: #E2EBFA;\n",
              "      --hover-fill-color: #174EA6;\n",
              "      --disabled-fill-color: #AAA;\n",
              "      --disabled-bg-color: #DDD;\n",
              "  }\n",
              "\n",
              "  [theme=dark] .colab-df-quickchart {\n",
              "      --bg-color: #3B4455;\n",
              "      --fill-color: #D2E3FC;\n",
              "      --hover-bg-color: #434B5C;\n",
              "      --hover-fill-color: #FFFFFF;\n",
              "      --disabled-bg-color: #3B4455;\n",
              "      --disabled-fill-color: #666;\n",
              "  }\n",
              "\n",
              "  .colab-df-quickchart {\n",
              "    background-color: var(--bg-color);\n",
              "    border: none;\n",
              "    border-radius: 50%;\n",
              "    cursor: pointer;\n",
              "    display: none;\n",
              "    fill: var(--fill-color);\n",
              "    height: 32px;\n",
              "    padding: 0;\n",
              "    width: 32px;\n",
              "  }\n",
              "\n",
              "  .colab-df-quickchart:hover {\n",
              "    background-color: var(--hover-bg-color);\n",
              "    box-shadow: 0 1px 2px rgba(60, 64, 67, 0.3), 0 1px 3px 1px rgba(60, 64, 67, 0.15);\n",
              "    fill: var(--button-hover-fill-color);\n",
              "  }\n",
              "\n",
              "  .colab-df-quickchart-complete:disabled,\n",
              "  .colab-df-quickchart-complete:disabled:hover {\n",
              "    background-color: var(--disabled-bg-color);\n",
              "    fill: var(--disabled-fill-color);\n",
              "    box-shadow: none;\n",
              "  }\n",
              "\n",
              "  .colab-df-spinner {\n",
              "    border: 2px solid var(--fill-color);\n",
              "    border-color: transparent;\n",
              "    border-bottom-color: var(--fill-color);\n",
              "    animation:\n",
              "      spin 1s steps(1) infinite;\n",
              "  }\n",
              "\n",
              "  @keyframes spin {\n",
              "    0% {\n",
              "      border-color: transparent;\n",
              "      border-bottom-color: var(--fill-color);\n",
              "      border-left-color: var(--fill-color);\n",
              "    }\n",
              "    20% {\n",
              "      border-color: transparent;\n",
              "      border-left-color: var(--fill-color);\n",
              "      border-top-color: var(--fill-color);\n",
              "    }\n",
              "    30% {\n",
              "      border-color: transparent;\n",
              "      border-left-color: var(--fill-color);\n",
              "      border-top-color: var(--fill-color);\n",
              "      border-right-color: var(--fill-color);\n",
              "    }\n",
              "    40% {\n",
              "      border-color: transparent;\n",
              "      border-right-color: var(--fill-color);\n",
              "      border-top-color: var(--fill-color);\n",
              "    }\n",
              "    60% {\n",
              "      border-color: transparent;\n",
              "      border-right-color: var(--fill-color);\n",
              "    }\n",
              "    80% {\n",
              "      border-color: transparent;\n",
              "      border-right-color: var(--fill-color);\n",
              "      border-bottom-color: var(--fill-color);\n",
              "    }\n",
              "    90% {\n",
              "      border-color: transparent;\n",
              "      border-bottom-color: var(--fill-color);\n",
              "    }\n",
              "  }\n",
              "</style>\n",
              "\n",
              "      <script>\n",
              "        async function quickchart(key) {\n",
              "          const quickchartButtonEl =\n",
              "            document.querySelector('#' + key + ' button');\n",
              "          quickchartButtonEl.disabled = true;  // To prevent multiple clicks.\n",
              "          quickchartButtonEl.classList.add('colab-df-spinner');\n",
              "          try {\n",
              "            const charts = await google.colab.kernel.invokeFunction(\n",
              "                'suggestCharts', [key], {});\n",
              "          } catch (error) {\n",
              "            console.error('Error during call to suggestCharts:', error);\n",
              "          }\n",
              "          quickchartButtonEl.classList.remove('colab-df-spinner');\n",
              "          quickchartButtonEl.classList.add('colab-df-quickchart-complete');\n",
              "        }\n",
              "        (() => {\n",
              "          let quickchartButtonEl =\n",
              "            document.querySelector('#df-42aa9cc9-a040-4687-98fc-bdb0fa2faff0 button');\n",
              "          quickchartButtonEl.style.display =\n",
              "            google.colab.kernel.accessAllowed ? 'block' : 'none';\n",
              "        })();\n",
              "      </script>\n",
              "    </div>\n",
              "\n",
              "  <div id=\"id_084d365f-502a-4dd7-a3c1-79ba5d45965e\">\n",
              "    <style>\n",
              "      .colab-df-generate {\n",
              "        background-color: #E8F0FE;\n",
              "        border: none;\n",
              "        border-radius: 50%;\n",
              "        cursor: pointer;\n",
              "        display: none;\n",
              "        fill: #1967D2;\n",
              "        height: 32px;\n",
              "        padding: 0 0 0 0;\n",
              "        width: 32px;\n",
              "      }\n",
              "\n",
              "      .colab-df-generate:hover {\n",
              "        background-color: #E2EBFA;\n",
              "        box-shadow: 0px 1px 2px rgba(60, 64, 67, 0.3), 0px 1px 3px 1px rgba(60, 64, 67, 0.15);\n",
              "        fill: #174EA6;\n",
              "      }\n",
              "\n",
              "      [theme=dark] .colab-df-generate {\n",
              "        background-color: #3B4455;\n",
              "        fill: #D2E3FC;\n",
              "      }\n",
              "\n",
              "      [theme=dark] .colab-df-generate:hover {\n",
              "        background-color: #434B5C;\n",
              "        box-shadow: 0px 1px 3px 1px rgba(0, 0, 0, 0.15);\n",
              "        filter: drop-shadow(0px 1px 2px rgba(0, 0, 0, 0.3));\n",
              "        fill: #FFFFFF;\n",
              "      }\n",
              "    </style>\n",
              "    <button class=\"colab-df-generate\" onclick=\"generateWithVariable('frame')\"\n",
              "            title=\"Generate code using this dataframe.\"\n",
              "            style=\"display:none;\">\n",
              "\n",
              "  <svg xmlns=\"http://www.w3.org/2000/svg\" height=\"24px\"viewBox=\"0 0 24 24\"\n",
              "       width=\"24px\">\n",
              "    <path d=\"M7,19H8.4L18.45,9,17,7.55,7,17.6ZM5,21V16.75L18.45,3.32a2,2,0,0,1,2.83,0l1.4,1.43a1.91,1.91,0,0,1,.58,1.4,1.91,1.91,0,0,1-.58,1.4L9.25,21ZM18.45,9,17,7.55Zm-12,3A5.31,5.31,0,0,0,4.9,8.1,5.31,5.31,0,0,0,1,6.5,5.31,5.31,0,0,0,4.9,4.9,5.31,5.31,0,0,0,6.5,1,5.31,5.31,0,0,0,8.1,4.9,5.31,5.31,0,0,0,12,6.5,5.46,5.46,0,0,0,6.5,12Z\"/>\n",
              "  </svg>\n",
              "    </button>\n",
              "    <script>\n",
              "      (() => {\n",
              "      const buttonEl =\n",
              "        document.querySelector('#id_084d365f-502a-4dd7-a3c1-79ba5d45965e button.colab-df-generate');\n",
              "      buttonEl.style.display =\n",
              "        google.colab.kernel.accessAllowed ? 'block' : 'none';\n",
              "\n",
              "      buttonEl.onclick = () => {\n",
              "        google.colab.notebook.generateWithVariable('frame');\n",
              "      }\n",
              "      })();\n",
              "    </script>\n",
              "  </div>\n",
              "\n",
              "    </div>\n",
              "  </div>\n"
            ],
            "application/vnd.google.colaboratory.intrinsic+json": {
              "type": "dataframe",
              "variable_name": "frame",
              "summary": "{\n  \"name\": \"frame\",\n  \"rows\": 6,\n  \"fields\": [\n    {\n      \"column\": \"state\",\n      \"properties\": {\n        \"dtype\": \"category\",\n        \"num_unique_values\": 2,\n        \"samples\": [\n          \"Nevada\",\n          \"Ohio\"\n        ],\n        \"semantic_type\": \"\",\n        \"description\": \"\"\n      }\n    },\n    {\n      \"column\": \"year\",\n      \"properties\": {\n        \"dtype\": \"number\",\n        \"std\": 1,\n        \"min\": 2000,\n        \"max\": 2003,\n        \"num_unique_values\": 4,\n        \"samples\": [\n          2001,\n          2003\n        ],\n        \"semantic_type\": \"\",\n        \"description\": \"\"\n      }\n    },\n    {\n      \"column\": \"pop\",\n      \"properties\": {\n        \"dtype\": \"number\",\n        \"std\": 0.8360621986431392,\n        \"min\": 1.5,\n        \"max\": 3.6,\n        \"num_unique_values\": 6,\n        \"samples\": [\n          1.5,\n          1.7\n        ],\n        \"semantic_type\": \"\",\n        \"description\": \"\"\n      }\n    }\n  ]\n}"
            }
          },
          "metadata": {},
          "execution_count": 8
        }
      ]
    },
    {
      "source": [
        "display(HTML(frame.to_html()))"
      ],
      "metadata": {
        "executionCancelledAt": null,
        "executionTime": 13,
        "lastExecutedAt": 1728474247192,
        "lastExecutedByKernel": "d980cdc8-acc8-4bea-ae4a-f83d53c7976d",
        "lastScheduledRunId": null,
        "lastSuccessfullyExecutedCode": "display(HTML(frame.to_html()))",
        "colab": {
          "base_uri": "https://localhost:8080/",
          "height": 141
        },
        "id": "b5ff8062-879b-4c00-bd45-81ac3e2a0a02",
        "outputId": "dc8fc5bc-7165-459d-b282-8fba71cf6ae0"
      },
      "cell_type": "code",
      "id": "b5ff8062-879b-4c00-bd45-81ac3e2a0a02",
      "outputs": [
        {
          "output_type": "error",
          "ename": "NameError",
          "evalue": "name 'HTML' is not defined",
          "traceback": [
            "\u001b[0;31m---------------------------------------------------------------------------\u001b[0m",
            "\u001b[0;31mNameError\u001b[0m                                 Traceback (most recent call last)",
            "\u001b[0;32m/tmp/ipython-input-3790002825.py\u001b[0m in \u001b[0;36m<cell line: 0>\u001b[0;34m()\u001b[0m\n\u001b[0;32m----> 1\u001b[0;31m \u001b[0mdisplay\u001b[0m\u001b[0;34m(\u001b[0m\u001b[0mHTML\u001b[0m\u001b[0;34m(\u001b[0m\u001b[0mframe\u001b[0m\u001b[0;34m.\u001b[0m\u001b[0mto_html\u001b[0m\u001b[0;34m(\u001b[0m\u001b[0;34m)\u001b[0m\u001b[0;34m)\u001b[0m\u001b[0;34m)\u001b[0m\u001b[0;34m\u001b[0m\u001b[0;34m\u001b[0m\u001b[0m\n\u001b[0m",
            "\u001b[0;31mNameError\u001b[0m: name 'HTML' is not defined"
          ]
        }
      ],
      "execution_count": 9
    },
    {
      "source": [
        "frame.head()"
      ],
      "metadata": {
        "colab": {
          "base_uri": "https://localhost:8080/",
          "height": 206
        },
        "id": "e360f2b1-19d2-4bb3-b3d6-02cb39a0cd65",
        "outputId": "1c24d33f-0c42-4134-eb09-73880de95be5",
        "executionCancelledAt": null,
        "executionTime": 18,
        "lastExecutedAt": 1728474249381,
        "lastExecutedByKernel": "d980cdc8-acc8-4bea-ae4a-f83d53c7976d",
        "lastScheduledRunId": null,
        "lastSuccessfullyExecutedCode": "frame.head()",
        "outputsMetadata": {
          "0": {
            "height": 365,
            "type": "dataFrame"
          }
        },
        "visualizeDataframe": false,
        "chartConfig": {
          "bar": {
            "hasRoundedCorners": true,
            "stacked": false
          },
          "type": "bar",
          "version": "v1"
        }
      },
      "id": "e360f2b1-19d2-4bb3-b3d6-02cb39a0cd65",
      "cell_type": "code",
      "execution_count": 10,
      "outputs": [
        {
          "output_type": "execute_result",
          "data": {
            "text/plain": [
              "    state  year  pop\n",
              "0    Ohio  2000  1.5\n",
              "1    Ohio  2001  1.7\n",
              "2    Ohio  2002  3.6\n",
              "3  Nevada  2001  2.4\n",
              "4  Nevada  2002  2.9"
            ],
            "text/html": [
              "\n",
              "  <div id=\"df-ba262be5-d530-48a7-a937-7adc14632212\" class=\"colab-df-container\">\n",
              "    <div>\n",
              "<style scoped>\n",
              "    .dataframe tbody tr th:only-of-type {\n",
              "        vertical-align: middle;\n",
              "    }\n",
              "\n",
              "    .dataframe tbody tr th {\n",
              "        vertical-align: top;\n",
              "    }\n",
              "\n",
              "    .dataframe thead th {\n",
              "        text-align: right;\n",
              "    }\n",
              "</style>\n",
              "<table border=\"1\" class=\"dataframe\">\n",
              "  <thead>\n",
              "    <tr style=\"text-align: right;\">\n",
              "      <th></th>\n",
              "      <th>state</th>\n",
              "      <th>year</th>\n",
              "      <th>pop</th>\n",
              "    </tr>\n",
              "  </thead>\n",
              "  <tbody>\n",
              "    <tr>\n",
              "      <th>0</th>\n",
              "      <td>Ohio</td>\n",
              "      <td>2000</td>\n",
              "      <td>1.5</td>\n",
              "    </tr>\n",
              "    <tr>\n",
              "      <th>1</th>\n",
              "      <td>Ohio</td>\n",
              "      <td>2001</td>\n",
              "      <td>1.7</td>\n",
              "    </tr>\n",
              "    <tr>\n",
              "      <th>2</th>\n",
              "      <td>Ohio</td>\n",
              "      <td>2002</td>\n",
              "      <td>3.6</td>\n",
              "    </tr>\n",
              "    <tr>\n",
              "      <th>3</th>\n",
              "      <td>Nevada</td>\n",
              "      <td>2001</td>\n",
              "      <td>2.4</td>\n",
              "    </tr>\n",
              "    <tr>\n",
              "      <th>4</th>\n",
              "      <td>Nevada</td>\n",
              "      <td>2002</td>\n",
              "      <td>2.9</td>\n",
              "    </tr>\n",
              "  </tbody>\n",
              "</table>\n",
              "</div>\n",
              "    <div class=\"colab-df-buttons\">\n",
              "\n",
              "  <div class=\"colab-df-container\">\n",
              "    <button class=\"colab-df-convert\" onclick=\"convertToInteractive('df-ba262be5-d530-48a7-a937-7adc14632212')\"\n",
              "            title=\"Convert this dataframe to an interactive table.\"\n",
              "            style=\"display:none;\">\n",
              "\n",
              "  <svg xmlns=\"http://www.w3.org/2000/svg\" height=\"24px\" viewBox=\"0 -960 960 960\">\n",
              "    <path d=\"M120-120v-720h720v720H120Zm60-500h600v-160H180v160Zm220 220h160v-160H400v160Zm0 220h160v-160H400v160ZM180-400h160v-160H180v160Zm440 0h160v-160H620v160ZM180-180h160v-160H180v160Zm440 0h160v-160H620v160Z\"/>\n",
              "  </svg>\n",
              "    </button>\n",
              "\n",
              "  <style>\n",
              "    .colab-df-container {\n",
              "      display:flex;\n",
              "      gap: 12px;\n",
              "    }\n",
              "\n",
              "    .colab-df-convert {\n",
              "      background-color: #E8F0FE;\n",
              "      border: none;\n",
              "      border-radius: 50%;\n",
              "      cursor: pointer;\n",
              "      display: none;\n",
              "      fill: #1967D2;\n",
              "      height: 32px;\n",
              "      padding: 0 0 0 0;\n",
              "      width: 32px;\n",
              "    }\n",
              "\n",
              "    .colab-df-convert:hover {\n",
              "      background-color: #E2EBFA;\n",
              "      box-shadow: 0px 1px 2px rgba(60, 64, 67, 0.3), 0px 1px 3px 1px rgba(60, 64, 67, 0.15);\n",
              "      fill: #174EA6;\n",
              "    }\n",
              "\n",
              "    .colab-df-buttons div {\n",
              "      margin-bottom: 4px;\n",
              "    }\n",
              "\n",
              "    [theme=dark] .colab-df-convert {\n",
              "      background-color: #3B4455;\n",
              "      fill: #D2E3FC;\n",
              "    }\n",
              "\n",
              "    [theme=dark] .colab-df-convert:hover {\n",
              "      background-color: #434B5C;\n",
              "      box-shadow: 0px 1px 3px 1px rgba(0, 0, 0, 0.15);\n",
              "      filter: drop-shadow(0px 1px 2px rgba(0, 0, 0, 0.3));\n",
              "      fill: #FFFFFF;\n",
              "    }\n",
              "  </style>\n",
              "\n",
              "    <script>\n",
              "      const buttonEl =\n",
              "        document.querySelector('#df-ba262be5-d530-48a7-a937-7adc14632212 button.colab-df-convert');\n",
              "      buttonEl.style.display =\n",
              "        google.colab.kernel.accessAllowed ? 'block' : 'none';\n",
              "\n",
              "      async function convertToInteractive(key) {\n",
              "        const element = document.querySelector('#df-ba262be5-d530-48a7-a937-7adc14632212');\n",
              "        const dataTable =\n",
              "          await google.colab.kernel.invokeFunction('convertToInteractive',\n",
              "                                                    [key], {});\n",
              "        if (!dataTable) return;\n",
              "\n",
              "        const docLinkHtml = 'Like what you see? Visit the ' +\n",
              "          '<a target=\"_blank\" href=https://colab.research.google.com/notebooks/data_table.ipynb>data table notebook</a>'\n",
              "          + ' to learn more about interactive tables.';\n",
              "        element.innerHTML = '';\n",
              "        dataTable['output_type'] = 'display_data';\n",
              "        await google.colab.output.renderOutput(dataTable, element);\n",
              "        const docLink = document.createElement('div');\n",
              "        docLink.innerHTML = docLinkHtml;\n",
              "        element.appendChild(docLink);\n",
              "      }\n",
              "    </script>\n",
              "  </div>\n",
              "\n",
              "\n",
              "    <div id=\"df-ef698f84-99f8-4b5e-b669-3dd77330968f\">\n",
              "      <button class=\"colab-df-quickchart\" onclick=\"quickchart('df-ef698f84-99f8-4b5e-b669-3dd77330968f')\"\n",
              "                title=\"Suggest charts\"\n",
              "                style=\"display:none;\">\n",
              "\n",
              "<svg xmlns=\"http://www.w3.org/2000/svg\" height=\"24px\"viewBox=\"0 0 24 24\"\n",
              "     width=\"24px\">\n",
              "    <g>\n",
              "        <path d=\"M19 3H5c-1.1 0-2 .9-2 2v14c0 1.1.9 2 2 2h14c1.1 0 2-.9 2-2V5c0-1.1-.9-2-2-2zM9 17H7v-7h2v7zm4 0h-2V7h2v10zm4 0h-2v-4h2v4z\"/>\n",
              "    </g>\n",
              "</svg>\n",
              "      </button>\n",
              "\n",
              "<style>\n",
              "  .colab-df-quickchart {\n",
              "      --bg-color: #E8F0FE;\n",
              "      --fill-color: #1967D2;\n",
              "      --hover-bg-color: #E2EBFA;\n",
              "      --hover-fill-color: #174EA6;\n",
              "      --disabled-fill-color: #AAA;\n",
              "      --disabled-bg-color: #DDD;\n",
              "  }\n",
              "\n",
              "  [theme=dark] .colab-df-quickchart {\n",
              "      --bg-color: #3B4455;\n",
              "      --fill-color: #D2E3FC;\n",
              "      --hover-bg-color: #434B5C;\n",
              "      --hover-fill-color: #FFFFFF;\n",
              "      --disabled-bg-color: #3B4455;\n",
              "      --disabled-fill-color: #666;\n",
              "  }\n",
              "\n",
              "  .colab-df-quickchart {\n",
              "    background-color: var(--bg-color);\n",
              "    border: none;\n",
              "    border-radius: 50%;\n",
              "    cursor: pointer;\n",
              "    display: none;\n",
              "    fill: var(--fill-color);\n",
              "    height: 32px;\n",
              "    padding: 0;\n",
              "    width: 32px;\n",
              "  }\n",
              "\n",
              "  .colab-df-quickchart:hover {\n",
              "    background-color: var(--hover-bg-color);\n",
              "    box-shadow: 0 1px 2px rgba(60, 64, 67, 0.3), 0 1px 3px 1px rgba(60, 64, 67, 0.15);\n",
              "    fill: var(--button-hover-fill-color);\n",
              "  }\n",
              "\n",
              "  .colab-df-quickchart-complete:disabled,\n",
              "  .colab-df-quickchart-complete:disabled:hover {\n",
              "    background-color: var(--disabled-bg-color);\n",
              "    fill: var(--disabled-fill-color);\n",
              "    box-shadow: none;\n",
              "  }\n",
              "\n",
              "  .colab-df-spinner {\n",
              "    border: 2px solid var(--fill-color);\n",
              "    border-color: transparent;\n",
              "    border-bottom-color: var(--fill-color);\n",
              "    animation:\n",
              "      spin 1s steps(1) infinite;\n",
              "  }\n",
              "\n",
              "  @keyframes spin {\n",
              "    0% {\n",
              "      border-color: transparent;\n",
              "      border-bottom-color: var(--fill-color);\n",
              "      border-left-color: var(--fill-color);\n",
              "    }\n",
              "    20% {\n",
              "      border-color: transparent;\n",
              "      border-left-color: var(--fill-color);\n",
              "      border-top-color: var(--fill-color);\n",
              "    }\n",
              "    30% {\n",
              "      border-color: transparent;\n",
              "      border-left-color: var(--fill-color);\n",
              "      border-top-color: var(--fill-color);\n",
              "      border-right-color: var(--fill-color);\n",
              "    }\n",
              "    40% {\n",
              "      border-color: transparent;\n",
              "      border-right-color: var(--fill-color);\n",
              "      border-top-color: var(--fill-color);\n",
              "    }\n",
              "    60% {\n",
              "      border-color: transparent;\n",
              "      border-right-color: var(--fill-color);\n",
              "    }\n",
              "    80% {\n",
              "      border-color: transparent;\n",
              "      border-right-color: var(--fill-color);\n",
              "      border-bottom-color: var(--fill-color);\n",
              "    }\n",
              "    90% {\n",
              "      border-color: transparent;\n",
              "      border-bottom-color: var(--fill-color);\n",
              "    }\n",
              "  }\n",
              "</style>\n",
              "\n",
              "      <script>\n",
              "        async function quickchart(key) {\n",
              "          const quickchartButtonEl =\n",
              "            document.querySelector('#' + key + ' button');\n",
              "          quickchartButtonEl.disabled = true;  // To prevent multiple clicks.\n",
              "          quickchartButtonEl.classList.add('colab-df-spinner');\n",
              "          try {\n",
              "            const charts = await google.colab.kernel.invokeFunction(\n",
              "                'suggestCharts', [key], {});\n",
              "          } catch (error) {\n",
              "            console.error('Error during call to suggestCharts:', error);\n",
              "          }\n",
              "          quickchartButtonEl.classList.remove('colab-df-spinner');\n",
              "          quickchartButtonEl.classList.add('colab-df-quickchart-complete');\n",
              "        }\n",
              "        (() => {\n",
              "          let quickchartButtonEl =\n",
              "            document.querySelector('#df-ef698f84-99f8-4b5e-b669-3dd77330968f button');\n",
              "          quickchartButtonEl.style.display =\n",
              "            google.colab.kernel.accessAllowed ? 'block' : 'none';\n",
              "        })();\n",
              "      </script>\n",
              "    </div>\n",
              "\n",
              "    </div>\n",
              "  </div>\n"
            ],
            "application/vnd.google.colaboratory.intrinsic+json": {
              "type": "dataframe",
              "variable_name": "frame",
              "summary": "{\n  \"name\": \"frame\",\n  \"rows\": 6,\n  \"fields\": [\n    {\n      \"column\": \"state\",\n      \"properties\": {\n        \"dtype\": \"category\",\n        \"num_unique_values\": 2,\n        \"samples\": [\n          \"Nevada\",\n          \"Ohio\"\n        ],\n        \"semantic_type\": \"\",\n        \"description\": \"\"\n      }\n    },\n    {\n      \"column\": \"year\",\n      \"properties\": {\n        \"dtype\": \"number\",\n        \"std\": 1,\n        \"min\": 2000,\n        \"max\": 2003,\n        \"num_unique_values\": 4,\n        \"samples\": [\n          2001,\n          2003\n        ],\n        \"semantic_type\": \"\",\n        \"description\": \"\"\n      }\n    },\n    {\n      \"column\": \"pop\",\n      \"properties\": {\n        \"dtype\": \"number\",\n        \"std\": 0.8360621986431392,\n        \"min\": 1.5,\n        \"max\": 3.6,\n        \"num_unique_values\": 6,\n        \"samples\": [\n          1.5,\n          1.7\n        ],\n        \"semantic_type\": \"\",\n        \"description\": \"\"\n      }\n    }\n  ]\n}"
            }
          },
          "metadata": {},
          "execution_count": 10
        }
      ]
    },
    {
      "source": [
        "frame.tail()"
      ],
      "metadata": {
        "colab": {
          "base_uri": "https://localhost:8080/",
          "height": 206
        },
        "id": "412bf682-7be0-40c4-a751-0562780f0392",
        "outputId": "a0e7065d-57f5-43c4-aad7-67886b9c1425"
      },
      "id": "412bf682-7be0-40c4-a751-0562780f0392",
      "cell_type": "code",
      "execution_count": null,
      "outputs": [
        {
          "output_type": "execute_result",
          "data": {
            "text/plain": [
              "    state  year  pop\n",
              "1    Ohio  2001  1.7\n",
              "2    Ohio  2002  3.6\n",
              "3  Nevada  2001  2.4\n",
              "4  Nevada  2002  2.9\n",
              "5  Nevada  2003  3.2"
            ],
            "text/html": [
              "\n",
              "  <div id=\"df-23fdb6fa-68bd-4e81-81a3-82488c566ebd\" class=\"colab-df-container\">\n",
              "    <div>\n",
              "<style scoped>\n",
              "    .dataframe tbody tr th:only-of-type {\n",
              "        vertical-align: middle;\n",
              "    }\n",
              "\n",
              "    .dataframe tbody tr th {\n",
              "        vertical-align: top;\n",
              "    }\n",
              "\n",
              "    .dataframe thead th {\n",
              "        text-align: right;\n",
              "    }\n",
              "</style>\n",
              "<table border=\"1\" class=\"dataframe\">\n",
              "  <thead>\n",
              "    <tr style=\"text-align: right;\">\n",
              "      <th></th>\n",
              "      <th>state</th>\n",
              "      <th>year</th>\n",
              "      <th>pop</th>\n",
              "    </tr>\n",
              "  </thead>\n",
              "  <tbody>\n",
              "    <tr>\n",
              "      <th>1</th>\n",
              "      <td>Ohio</td>\n",
              "      <td>2001</td>\n",
              "      <td>1.7</td>\n",
              "    </tr>\n",
              "    <tr>\n",
              "      <th>2</th>\n",
              "      <td>Ohio</td>\n",
              "      <td>2002</td>\n",
              "      <td>3.6</td>\n",
              "    </tr>\n",
              "    <tr>\n",
              "      <th>3</th>\n",
              "      <td>Nevada</td>\n",
              "      <td>2001</td>\n",
              "      <td>2.4</td>\n",
              "    </tr>\n",
              "    <tr>\n",
              "      <th>4</th>\n",
              "      <td>Nevada</td>\n",
              "      <td>2002</td>\n",
              "      <td>2.9</td>\n",
              "    </tr>\n",
              "    <tr>\n",
              "      <th>5</th>\n",
              "      <td>Nevada</td>\n",
              "      <td>2003</td>\n",
              "      <td>3.2</td>\n",
              "    </tr>\n",
              "  </tbody>\n",
              "</table>\n",
              "</div>\n",
              "    <div class=\"colab-df-buttons\">\n",
              "\n",
              "  <div class=\"colab-df-container\">\n",
              "    <button class=\"colab-df-convert\" onclick=\"convertToInteractive('df-23fdb6fa-68bd-4e81-81a3-82488c566ebd')\"\n",
              "            title=\"Convert this dataframe to an interactive table.\"\n",
              "            style=\"display:none;\">\n",
              "\n",
              "  <svg xmlns=\"http://www.w3.org/2000/svg\" height=\"24px\" viewBox=\"0 -960 960 960\">\n",
              "    <path d=\"M120-120v-720h720v720H120Zm60-500h600v-160H180v160Zm220 220h160v-160H400v160Zm0 220h160v-160H400v160ZM180-400h160v-160H180v160Zm440 0h160v-160H620v160ZM180-180h160v-160H180v160Zm440 0h160v-160H620v160Z\"/>\n",
              "  </svg>\n",
              "    </button>\n",
              "\n",
              "  <style>\n",
              "    .colab-df-container {\n",
              "      display:flex;\n",
              "      gap: 12px;\n",
              "    }\n",
              "\n",
              "    .colab-df-convert {\n",
              "      background-color: #E8F0FE;\n",
              "      border: none;\n",
              "      border-radius: 50%;\n",
              "      cursor: pointer;\n",
              "      display: none;\n",
              "      fill: #1967D2;\n",
              "      height: 32px;\n",
              "      padding: 0 0 0 0;\n",
              "      width: 32px;\n",
              "    }\n",
              "\n",
              "    .colab-df-convert:hover {\n",
              "      background-color: #E2EBFA;\n",
              "      box-shadow: 0px 1px 2px rgba(60, 64, 67, 0.3), 0px 1px 3px 1px rgba(60, 64, 67, 0.15);\n",
              "      fill: #174EA6;\n",
              "    }\n",
              "\n",
              "    .colab-df-buttons div {\n",
              "      margin-bottom: 4px;\n",
              "    }\n",
              "\n",
              "    [theme=dark] .colab-df-convert {\n",
              "      background-color: #3B4455;\n",
              "      fill: #D2E3FC;\n",
              "    }\n",
              "\n",
              "    [theme=dark] .colab-df-convert:hover {\n",
              "      background-color: #434B5C;\n",
              "      box-shadow: 0px 1px 3px 1px rgba(0, 0, 0, 0.15);\n",
              "      filter: drop-shadow(0px 1px 2px rgba(0, 0, 0, 0.3));\n",
              "      fill: #FFFFFF;\n",
              "    }\n",
              "  </style>\n",
              "\n",
              "    <script>\n",
              "      const buttonEl =\n",
              "        document.querySelector('#df-23fdb6fa-68bd-4e81-81a3-82488c566ebd button.colab-df-convert');\n",
              "      buttonEl.style.display =\n",
              "        google.colab.kernel.accessAllowed ? 'block' : 'none';\n",
              "\n",
              "      async function convertToInteractive(key) {\n",
              "        const element = document.querySelector('#df-23fdb6fa-68bd-4e81-81a3-82488c566ebd');\n",
              "        const dataTable =\n",
              "          await google.colab.kernel.invokeFunction('convertToInteractive',\n",
              "                                                    [key], {});\n",
              "        if (!dataTable) return;\n",
              "\n",
              "        const docLinkHtml = 'Like what you see? Visit the ' +\n",
              "          '<a target=\"_blank\" href=https://colab.research.google.com/notebooks/data_table.ipynb>data table notebook</a>'\n",
              "          + ' to learn more about interactive tables.';\n",
              "        element.innerHTML = '';\n",
              "        dataTable['output_type'] = 'display_data';\n",
              "        await google.colab.output.renderOutput(dataTable, element);\n",
              "        const docLink = document.createElement('div');\n",
              "        docLink.innerHTML = docLinkHtml;\n",
              "        element.appendChild(docLink);\n",
              "      }\n",
              "    </script>\n",
              "  </div>\n",
              "\n",
              "\n",
              "<div id=\"df-9065eeb0-e587-41c9-b633-6cc88467dbdd\">\n",
              "  <button class=\"colab-df-quickchart\" onclick=\"quickchart('df-9065eeb0-e587-41c9-b633-6cc88467dbdd')\"\n",
              "            title=\"Suggest charts\"\n",
              "            style=\"display:none;\">\n",
              "\n",
              "<svg xmlns=\"http://www.w3.org/2000/svg\" height=\"24px\"viewBox=\"0 0 24 24\"\n",
              "     width=\"24px\">\n",
              "    <g>\n",
              "        <path d=\"M19 3H5c-1.1 0-2 .9-2 2v14c0 1.1.9 2 2 2h14c1.1 0 2-.9 2-2V5c0-1.1-.9-2-2-2zM9 17H7v-7h2v7zm4 0h-2V7h2v10zm4 0h-2v-4h2v4z\"/>\n",
              "    </g>\n",
              "</svg>\n",
              "  </button>\n",
              "\n",
              "<style>\n",
              "  .colab-df-quickchart {\n",
              "      --bg-color: #E8F0FE;\n",
              "      --fill-color: #1967D2;\n",
              "      --hover-bg-color: #E2EBFA;\n",
              "      --hover-fill-color: #174EA6;\n",
              "      --disabled-fill-color: #AAA;\n",
              "      --disabled-bg-color: #DDD;\n",
              "  }\n",
              "\n",
              "  [theme=dark] .colab-df-quickchart {\n",
              "      --bg-color: #3B4455;\n",
              "      --fill-color: #D2E3FC;\n",
              "      --hover-bg-color: #434B5C;\n",
              "      --hover-fill-color: #FFFFFF;\n",
              "      --disabled-bg-color: #3B4455;\n",
              "      --disabled-fill-color: #666;\n",
              "  }\n",
              "\n",
              "  .colab-df-quickchart {\n",
              "    background-color: var(--bg-color);\n",
              "    border: none;\n",
              "    border-radius: 50%;\n",
              "    cursor: pointer;\n",
              "    display: none;\n",
              "    fill: var(--fill-color);\n",
              "    height: 32px;\n",
              "    padding: 0;\n",
              "    width: 32px;\n",
              "  }\n",
              "\n",
              "  .colab-df-quickchart:hover {\n",
              "    background-color: var(--hover-bg-color);\n",
              "    box-shadow: 0 1px 2px rgba(60, 64, 67, 0.3), 0 1px 3px 1px rgba(60, 64, 67, 0.15);\n",
              "    fill: var(--button-hover-fill-color);\n",
              "  }\n",
              "\n",
              "  .colab-df-quickchart-complete:disabled,\n",
              "  .colab-df-quickchart-complete:disabled:hover {\n",
              "    background-color: var(--disabled-bg-color);\n",
              "    fill: var(--disabled-fill-color);\n",
              "    box-shadow: none;\n",
              "  }\n",
              "\n",
              "  .colab-df-spinner {\n",
              "    border: 2px solid var(--fill-color);\n",
              "    border-color: transparent;\n",
              "    border-bottom-color: var(--fill-color);\n",
              "    animation:\n",
              "      spin 1s steps(1) infinite;\n",
              "  }\n",
              "\n",
              "  @keyframes spin {\n",
              "    0% {\n",
              "      border-color: transparent;\n",
              "      border-bottom-color: var(--fill-color);\n",
              "      border-left-color: var(--fill-color);\n",
              "    }\n",
              "    20% {\n",
              "      border-color: transparent;\n",
              "      border-left-color: var(--fill-color);\n",
              "      border-top-color: var(--fill-color);\n",
              "    }\n",
              "    30% {\n",
              "      border-color: transparent;\n",
              "      border-left-color: var(--fill-color);\n",
              "      border-top-color: var(--fill-color);\n",
              "      border-right-color: var(--fill-color);\n",
              "    }\n",
              "    40% {\n",
              "      border-color: transparent;\n",
              "      border-right-color: var(--fill-color);\n",
              "      border-top-color: var(--fill-color);\n",
              "    }\n",
              "    60% {\n",
              "      border-color: transparent;\n",
              "      border-right-color: var(--fill-color);\n",
              "    }\n",
              "    80% {\n",
              "      border-color: transparent;\n",
              "      border-right-color: var(--fill-color);\n",
              "      border-bottom-color: var(--fill-color);\n",
              "    }\n",
              "    90% {\n",
              "      border-color: transparent;\n",
              "      border-bottom-color: var(--fill-color);\n",
              "    }\n",
              "  }\n",
              "</style>\n",
              "\n",
              "  <script>\n",
              "    async function quickchart(key) {\n",
              "      const quickchartButtonEl =\n",
              "        document.querySelector('#' + key + ' button');\n",
              "      quickchartButtonEl.disabled = true;  // To prevent multiple clicks.\n",
              "      quickchartButtonEl.classList.add('colab-df-spinner');\n",
              "      try {\n",
              "        const charts = await google.colab.kernel.invokeFunction(\n",
              "            'suggestCharts', [key], {});\n",
              "      } catch (error) {\n",
              "        console.error('Error during call to suggestCharts:', error);\n",
              "      }\n",
              "      quickchartButtonEl.classList.remove('colab-df-spinner');\n",
              "      quickchartButtonEl.classList.add('colab-df-quickchart-complete');\n",
              "    }\n",
              "    (() => {\n",
              "      let quickchartButtonEl =\n",
              "        document.querySelector('#df-9065eeb0-e587-41c9-b633-6cc88467dbdd button');\n",
              "      quickchartButtonEl.style.display =\n",
              "        google.colab.kernel.accessAllowed ? 'block' : 'none';\n",
              "    })();\n",
              "  </script>\n",
              "</div>\n",
              "\n",
              "    </div>\n",
              "  </div>\n"
            ],
            "application/vnd.google.colaboratory.intrinsic+json": {
              "type": "dataframe",
              "summary": "{\n  \"name\": \"frame\",\n  \"rows\": 5,\n  \"fields\": [\n    {\n      \"column\": \"state\",\n      \"properties\": {\n        \"dtype\": \"category\",\n        \"num_unique_values\": 2,\n        \"samples\": [\n          \"Nevada\",\n          \"Ohio\"\n        ],\n        \"semantic_type\": \"\",\n        \"description\": \"\"\n      }\n    },\n    {\n      \"column\": \"year\",\n      \"properties\": {\n        \"dtype\": \"number\",\n        \"std\": 0,\n        \"min\": 2001,\n        \"max\": 2003,\n        \"num_unique_values\": 3,\n        \"samples\": [\n          2001,\n          2002\n        ],\n        \"semantic_type\": \"\",\n        \"description\": \"\"\n      }\n    },\n    {\n      \"column\": \"pop\",\n      \"properties\": {\n        \"dtype\": \"number\",\n        \"std\": 0.7368853370776216,\n        \"min\": 1.7,\n        \"max\": 3.6,\n        \"num_unique_values\": 5,\n        \"samples\": [\n          3.6,\n          3.2\n        ],\n        \"semantic_type\": \"\",\n        \"description\": \"\"\n      }\n    }\n  ]\n}"
            }
          },
          "metadata": {},
          "execution_count": 11
        }
      ]
    },
    {
      "source": [
        "# Zamiana kolejności kolumn\n",
        "pd.DataFrame(data, columns=[\"year\", \"state\", \"pop\"])"
      ],
      "metadata": {
        "colab": {
          "base_uri": "https://localhost:8080/",
          "height": 159
        },
        "id": "d0a3bda4-127b-41d3-a9dd-6e4171d5d40d",
        "outputId": "98b8a8d8-c961-44e3-8de0-7bccdf2faa5c",
        "executionCancelledAt": null,
        "executionTime": null,
        "lastExecutedAt": null,
        "lastExecutedByKernel": null,
        "lastScheduledRunId": null,
        "lastSuccessfullyExecutedCode": null,
        "outputsMetadata": {
          "0": {
            "height": 250,
            "type": "dataFrame"
          }
        }
      },
      "id": "d0a3bda4-127b-41d3-a9dd-6e4171d5d40d",
      "cell_type": "code",
      "execution_count": 6,
      "outputs": [
        {
          "output_type": "error",
          "ename": "NameError",
          "evalue": "name 'data' is not defined",
          "traceback": [
            "\u001b[0;31m---------------------------------------------------------------------------\u001b[0m",
            "\u001b[0;31mNameError\u001b[0m                                 Traceback (most recent call last)",
            "\u001b[0;32m/tmp/ipython-input-3250867170.py\u001b[0m in \u001b[0;36m<cell line: 0>\u001b[0;34m()\u001b[0m\n\u001b[1;32m      1\u001b[0m \u001b[0;31m# Zamiana kolejności kolumn\u001b[0m\u001b[0;34m\u001b[0m\u001b[0;34m\u001b[0m\u001b[0m\n\u001b[0;32m----> 2\u001b[0;31m \u001b[0mpd\u001b[0m\u001b[0;34m.\u001b[0m\u001b[0mDataFrame\u001b[0m\u001b[0;34m(\u001b[0m\u001b[0mdata\u001b[0m\u001b[0;34m,\u001b[0m \u001b[0mcolumns\u001b[0m\u001b[0;34m=\u001b[0m\u001b[0;34m[\u001b[0m\u001b[0;34m\"year\"\u001b[0m\u001b[0;34m,\u001b[0m \u001b[0;34m\"state\"\u001b[0m\u001b[0;34m,\u001b[0m \u001b[0;34m\"pop\"\u001b[0m\u001b[0;34m]\u001b[0m\u001b[0;34m)\u001b[0m\u001b[0;34m\u001b[0m\u001b[0;34m\u001b[0m\u001b[0m\n\u001b[0m",
            "\u001b[0;31mNameError\u001b[0m: name 'data' is not defined"
          ]
        }
      ]
    },
    {
      "source": [
        "frame.loc[1]"
      ],
      "metadata": {
        "colab": {
          "base_uri": "https://localhost:8080/",
          "height": 178
        },
        "id": "5b3b1397-8702-400f-a195-cbe22e337ae9",
        "outputId": "5d2ef787-f7c1-4c45-fcb8-68052a089fcd",
        "executionCancelledAt": null,
        "executionTime": 54,
        "lastExecutedAt": 1728474272193,
        "lastExecutedByKernel": "d980cdc8-acc8-4bea-ae4a-f83d53c7976d",
        "lastScheduledRunId": null,
        "lastSuccessfullyExecutedCode": "frame.loc[1]",
        "outputsMetadata": {
          "0": {
            "height": 166,
            "type": "dataFrame"
          }
        }
      },
      "id": "5b3b1397-8702-400f-a195-cbe22e337ae9",
      "cell_type": "code",
      "execution_count": null,
      "outputs": [
        {
          "output_type": "execute_result",
          "data": {
            "text/plain": [
              "state    Ohio\n",
              "year     2001\n",
              "pop       1.7\n",
              "Name: 1, dtype: object"
            ],
            "text/html": [
              "<div>\n",
              "<style scoped>\n",
              "    .dataframe tbody tr th:only-of-type {\n",
              "        vertical-align: middle;\n",
              "    }\n",
              "\n",
              "    .dataframe tbody tr th {\n",
              "        vertical-align: top;\n",
              "    }\n",
              "\n",
              "    .dataframe thead th {\n",
              "        text-align: right;\n",
              "    }\n",
              "</style>\n",
              "<table border=\"1\" class=\"dataframe\">\n",
              "  <thead>\n",
              "    <tr style=\"text-align: right;\">\n",
              "      <th></th>\n",
              "      <th>1</th>\n",
              "    </tr>\n",
              "  </thead>\n",
              "  <tbody>\n",
              "    <tr>\n",
              "      <th>state</th>\n",
              "      <td>Ohio</td>\n",
              "    </tr>\n",
              "    <tr>\n",
              "      <th>year</th>\n",
              "      <td>2001</td>\n",
              "    </tr>\n",
              "    <tr>\n",
              "      <th>pop</th>\n",
              "      <td>1.7</td>\n",
              "    </tr>\n",
              "  </tbody>\n",
              "</table>\n",
              "</div><br><label><b>dtype:</b> object</label>"
            ]
          },
          "metadata": {},
          "execution_count": 13
        }
      ]
    },
    {
      "source": [
        "frame.iloc[1]"
      ],
      "metadata": {
        "colab": {
          "base_uri": "https://localhost:8080/",
          "height": 178
        },
        "id": "639518d3-1ba4-45b4-95b3-4d1feb2006bd",
        "outputId": "1564dea2-7ddc-494b-eed5-fa5815a17313",
        "executionCancelledAt": null,
        "executionTime": null,
        "lastExecutedAt": null,
        "lastExecutedByKernel": null,
        "lastScheduledRunId": null,
        "lastSuccessfullyExecutedCode": null,
        "outputsMetadata": {
          "0": {
            "height": 166,
            "type": "dataFrame"
          }
        }
      },
      "id": "639518d3-1ba4-45b4-95b3-4d1feb2006bd",
      "cell_type": "code",
      "execution_count": null,
      "outputs": [
        {
          "output_type": "execute_result",
          "data": {
            "text/plain": [
              "state    Ohio\n",
              "year     2001\n",
              "pop       1.7\n",
              "Name: 1, dtype: object"
            ],
            "text/html": [
              "<div>\n",
              "<style scoped>\n",
              "    .dataframe tbody tr th:only-of-type {\n",
              "        vertical-align: middle;\n",
              "    }\n",
              "\n",
              "    .dataframe tbody tr th {\n",
              "        vertical-align: top;\n",
              "    }\n",
              "\n",
              "    .dataframe thead th {\n",
              "        text-align: right;\n",
              "    }\n",
              "</style>\n",
              "<table border=\"1\" class=\"dataframe\">\n",
              "  <thead>\n",
              "    <tr style=\"text-align: right;\">\n",
              "      <th></th>\n",
              "      <th>1</th>\n",
              "    </tr>\n",
              "  </thead>\n",
              "  <tbody>\n",
              "    <tr>\n",
              "      <th>state</th>\n",
              "      <td>Ohio</td>\n",
              "    </tr>\n",
              "    <tr>\n",
              "      <th>year</th>\n",
              "      <td>2001</td>\n",
              "    </tr>\n",
              "    <tr>\n",
              "      <th>pop</th>\n",
              "      <td>1.7</td>\n",
              "    </tr>\n",
              "  </tbody>\n",
              "</table>\n",
              "</div><br><label><b>dtype:</b> object</label>"
            ]
          },
          "metadata": {},
          "execution_count": 14
        }
      ]
    },
    {
      "source": [
        "frame['state']"
      ],
      "metadata": {
        "colab": {
          "base_uri": "https://localhost:8080/",
          "height": 272
        },
        "id": "6ed5656f-31b9-49ae-8c83-73c940a55eb6",
        "outputId": "4f614d73-fc30-40c1-defb-3f5d9c1f0c4f",
        "executionCancelledAt": null,
        "executionTime": null,
        "lastExecutedAt": null,
        "lastExecutedByKernel": null,
        "lastScheduledRunId": null,
        "lastSuccessfullyExecutedCode": null,
        "outputsMetadata": {
          "0": {
            "height": 250,
            "type": "dataFrame"
          }
        }
      },
      "id": "6ed5656f-31b9-49ae-8c83-73c940a55eb6",
      "cell_type": "code",
      "execution_count": null,
      "outputs": [
        {
          "output_type": "execute_result",
          "data": {
            "text/plain": [
              "0      Ohio\n",
              "1      Ohio\n",
              "2      Ohio\n",
              "3    Nevada\n",
              "4    Nevada\n",
              "5    Nevada\n",
              "Name: state, dtype: object"
            ],
            "text/html": [
              "<div>\n",
              "<style scoped>\n",
              "    .dataframe tbody tr th:only-of-type {\n",
              "        vertical-align: middle;\n",
              "    }\n",
              "\n",
              "    .dataframe tbody tr th {\n",
              "        vertical-align: top;\n",
              "    }\n",
              "\n",
              "    .dataframe thead th {\n",
              "        text-align: right;\n",
              "    }\n",
              "</style>\n",
              "<table border=\"1\" class=\"dataframe\">\n",
              "  <thead>\n",
              "    <tr style=\"text-align: right;\">\n",
              "      <th></th>\n",
              "      <th>state</th>\n",
              "    </tr>\n",
              "  </thead>\n",
              "  <tbody>\n",
              "    <tr>\n",
              "      <th>0</th>\n",
              "      <td>Ohio</td>\n",
              "    </tr>\n",
              "    <tr>\n",
              "      <th>1</th>\n",
              "      <td>Ohio</td>\n",
              "    </tr>\n",
              "    <tr>\n",
              "      <th>2</th>\n",
              "      <td>Ohio</td>\n",
              "    </tr>\n",
              "    <tr>\n",
              "      <th>3</th>\n",
              "      <td>Nevada</td>\n",
              "    </tr>\n",
              "    <tr>\n",
              "      <th>4</th>\n",
              "      <td>Nevada</td>\n",
              "    </tr>\n",
              "    <tr>\n",
              "      <th>5</th>\n",
              "      <td>Nevada</td>\n",
              "    </tr>\n",
              "  </tbody>\n",
              "</table>\n",
              "</div><br><label><b>dtype:</b> object</label>"
            ]
          },
          "metadata": {},
          "execution_count": 15
        }
      ]
    },
    {
      "source": [
        "frame['pop']"
      ],
      "metadata": {
        "colab": {
          "base_uri": "https://localhost:8080/",
          "height": 272
        },
        "id": "f624ca38-1c58-495b-9e5b-c2046a64ff90",
        "outputId": "06553c60-70f6-48d0-e509-0f18c231e72b",
        "executionCancelledAt": null,
        "executionTime": null,
        "lastExecutedAt": null,
        "lastExecutedByKernel": null,
        "lastScheduledRunId": null,
        "lastSuccessfullyExecutedCode": null,
        "outputsMetadata": {
          "0": {
            "height": 250,
            "type": "dataFrame"
          }
        }
      },
      "id": "f624ca38-1c58-495b-9e5b-c2046a64ff90",
      "cell_type": "code",
      "execution_count": null,
      "outputs": [
        {
          "output_type": "execute_result",
          "data": {
            "text/plain": [
              "0    1.5\n",
              "1    1.7\n",
              "2    3.6\n",
              "3    2.4\n",
              "4    2.9\n",
              "5    3.2\n",
              "Name: pop, dtype: float64"
            ],
            "text/html": [
              "<div>\n",
              "<style scoped>\n",
              "    .dataframe tbody tr th:only-of-type {\n",
              "        vertical-align: middle;\n",
              "    }\n",
              "\n",
              "    .dataframe tbody tr th {\n",
              "        vertical-align: top;\n",
              "    }\n",
              "\n",
              "    .dataframe thead th {\n",
              "        text-align: right;\n",
              "    }\n",
              "</style>\n",
              "<table border=\"1\" class=\"dataframe\">\n",
              "  <thead>\n",
              "    <tr style=\"text-align: right;\">\n",
              "      <th></th>\n",
              "      <th>pop</th>\n",
              "    </tr>\n",
              "  </thead>\n",
              "  <tbody>\n",
              "    <tr>\n",
              "      <th>0</th>\n",
              "      <td>1.5</td>\n",
              "    </tr>\n",
              "    <tr>\n",
              "      <th>1</th>\n",
              "      <td>1.7</td>\n",
              "    </tr>\n",
              "    <tr>\n",
              "      <th>2</th>\n",
              "      <td>3.6</td>\n",
              "    </tr>\n",
              "    <tr>\n",
              "      <th>3</th>\n",
              "      <td>2.4</td>\n",
              "    </tr>\n",
              "    <tr>\n",
              "      <th>4</th>\n",
              "      <td>2.9</td>\n",
              "    </tr>\n",
              "    <tr>\n",
              "      <th>5</th>\n",
              "      <td>3.2</td>\n",
              "    </tr>\n",
              "  </tbody>\n",
              "</table>\n",
              "</div><br><label><b>dtype:</b> float64</label>"
            ]
          },
          "metadata": {},
          "execution_count": 16
        }
      ]
    },
    {
      "source": [
        "frame[[\"state\", \"pop\"]]"
      ],
      "metadata": {
        "colab": {
          "base_uri": "https://localhost:8080/",
          "height": 141
        },
        "id": "19402e33-27ac-4806-9e9a-d2ba506dae5b",
        "outputId": "a2730e6e-cdf0-494d-b353-3e86ed48805b",
        "executionCancelledAt": null,
        "executionTime": null,
        "lastExecutedAt": null,
        "lastExecutedByKernel": null,
        "lastScheduledRunId": null,
        "lastSuccessfullyExecutedCode": null,
        "outputsMetadata": {
          "0": {
            "height": 250,
            "type": "dataFrame"
          }
        }
      },
      "id": "19402e33-27ac-4806-9e9a-d2ba506dae5b",
      "cell_type": "code",
      "execution_count": 5,
      "outputs": [
        {
          "output_type": "error",
          "ename": "NameError",
          "evalue": "name 'frame' is not defined",
          "traceback": [
            "\u001b[0;31m---------------------------------------------------------------------------\u001b[0m",
            "\u001b[0;31mNameError\u001b[0m                                 Traceback (most recent call last)",
            "\u001b[0;32m/tmp/ipython-input-3362165597.py\u001b[0m in \u001b[0;36m<cell line: 0>\u001b[0;34m()\u001b[0m\n\u001b[0;32m----> 1\u001b[0;31m \u001b[0mframe\u001b[0m\u001b[0;34m[\u001b[0m\u001b[0;34m[\u001b[0m\u001b[0;34m\"state\"\u001b[0m\u001b[0;34m,\u001b[0m \u001b[0;34m\"pop\"\u001b[0m\u001b[0;34m]\u001b[0m\u001b[0;34m]\u001b[0m\u001b[0;34m\u001b[0m\u001b[0;34m\u001b[0m\u001b[0m\n\u001b[0m",
            "\u001b[0;31mNameError\u001b[0m: name 'frame' is not defined"
          ]
        }
      ]
    },
    {
      "source": [
        "# Filtracja danych\n",
        "ohio_data = frame[frame['state'] == 'Ohio']\n",
        "nevada_data = frame[frame['state'] == 'Nevada']\n",
        "\n",
        "# Tworzenie wykresu\n",
        "plt.plot(ohio_data['year'], ohio_data['pop'], marker='o', linestyle='-', color='b',\n",
        "        label=\"Ohio\")\n",
        "plt.plot(nevada_data['year'], nevada_data['pop'], marker='o', linestyle='-', color='r',\n",
        "        label=\"Nevada\")\n",
        "plt.title('Rok vs Populacja dla Ohio i Nevady')\n",
        "plt.xlabel('Rok')\n",
        "plt.ylabel('Populacja [mln]')\n",
        "\n",
        "# Ustawienie etykiet osi X, aby wyświetlały tylko konkretne lata\n",
        "plt.xticks([2000, 2001, 2002, 2003])\n",
        "\n",
        "plt.legend()"
      ],
      "metadata": {
        "id": "e158a304-f6df-49aa-88aa-21e50d79bf9f",
        "colab": {
          "base_uri": "https://localhost:8080/",
          "height": 489
        },
        "outputId": "c8e7ae60-e54d-4699-f577-809a0a2ef31b",
        "executionCancelledAt": null,
        "executionTime": 289,
        "lastExecutedAt": 1728474300266,
        "lastExecutedByKernel": "d980cdc8-acc8-4bea-ae4a-f83d53c7976d",
        "lastScheduledRunId": null,
        "lastSuccessfullyExecutedCode": "# Filtracja danych\nohio_data = frame[frame['state'] == 'Ohio']\nnevada_data = frame[frame['state'] == 'Nevada']\n\n# Tworzenie wykresu\nplt.plot(ohio_data['year'], ohio_data['pop'], marker='o', linestyle='-', color='b',\n        label=\"Ohio\")\nplt.plot(nevada_data['year'], nevada_data['pop'], marker='o', linestyle='-', color='r',\n        label=\"Nevada\")\nplt.title('Rok vs Populacja dla Ohio i Nevady')\nplt.xlabel('Rok')\nplt.ylabel('Populacja [mln]')\n\n# Ustawienie etykiet osi X, aby wyświetlały tylko konkretne lata\nplt.xticks([2000, 2001, 2002, 2003])\n\nplt.legend()"
      },
      "id": "e158a304-f6df-49aa-88aa-21e50d79bf9f",
      "cell_type": "code",
      "execution_count": 11,
      "outputs": [
        {
          "output_type": "execute_result",
          "data": {
            "text/plain": [
              "<matplotlib.legend.Legend at 0x7eb1b6a374d0>"
            ]
          },
          "metadata": {},
          "execution_count": 11
        },
        {
          "output_type": "display_data",
          "data": {
            "text/plain": [
              "<Figure size 640x480 with 1 Axes>"
            ],
            "image/png": "[encoded data removed]"
          },
          "metadata": {}
        }
      ]
    },
    {
      "source": [
        "ohio_data.plot(x='year', y='pop', marker='o', linestyle='-', color='b', label=\"Ohio\")\n",
        "nevada_data.plot(x='year', y='pop', marker='o', linestyle='-', color='r', label=\"Nevada\")\n",
        "plt.title('Rok vs Populacja dla Ohio i Nevady')\n",
        "plt.xlabel('Rok')\n",
        "plt.ylabel('Populacja [mln]')\n",
        "\n",
        "# Ustawienie etykiet osi X, aby wyświetlały tylko konkretne lata\n",
        "plt.xticks([2000, 2001, 2002, 2003])\n",
        "\n",
        "plt.legend()"
      ],
      "metadata": {
        "colab": {
          "base_uri": "https://localhost:8080/",
          "height": 951
        },
        "id": "d304c77d-27a8-4c98-baeb-2053adb29bfe",
        "outputId": "4997f803-a6f0-46c5-eb40-964c95bde907",
        "executionCancelledAt": null,
        "executionTime": 470,
        "lastExecutedAt": 1728474308700,
        "lastExecutedByKernel": "d980cdc8-acc8-4bea-ae4a-f83d53c7976d",
        "lastScheduledRunId": null,
        "lastSuccessfullyExecutedCode": "ohio_data.plot(x='year', y='pop', marker='o', linestyle='-', color='b', label=\"Ohio\")\nnevada_data.plot(x='year', y='pop', marker='o', linestyle='-', color='r', label=\"Nevada\")\nplt.title('Rok vs Populacja dla Ohio i Nevady')\nplt.xlabel('Rok')\nplt.ylabel('Populacja [mln]')\n\n# Ustawienie etykiet osi X, aby wyświetlały tylko konkretne lata\nplt.xticks([2000, 2001, 2002, 2003])\n\nplt.legend()"
      },
      "id": "d304c77d-27a8-4c98-baeb-2053adb29bfe",
      "cell_type": "code",
      "execution_count": null,
      "outputs": [
        {
          "output_type": "execute_result",
          "data": {
            "text/plain": [
              "<matplotlib.legend.Legend at 0x78b5f6aaf0a0>"
            ]
          },
          "metadata": {},
          "execution_count": 19
        },
        {
          "output_type": "display_data",
          "data": {
            "text/plain": [
              "<Figure size 640x480 with 1 Axes>"
            ],
            "image/png": "[encoded data removed]"
          },
          "metadata": {}
        },
        {
          "output_type": "display_data",
          "data": {
            "text/plain": [
              "<Figure size 640x480 with 1 Axes>"
            ],
            "image/png": "[encoded data removed]"
          },
          "metadata": {}
        }
      ]
    },
    {
      "source": [
        "# Tutaj wykres w sposób obiektowy\n",
        "\n",
        "fig, ax = plt.subplots()\n",
        "ohio_data.plot(x='year', y='pop', marker='o', linestyle='-', color='b', label=\"Ohio\", ax=ax)\n",
        "nevada_data.plot(x='year', y='pop', marker='o', linestyle='-', color='r', label=\"Nevada\", ax=ax)\n",
        "ax.set_title('Rok vs Populacja dla Ohio i Nevady')\n",
        "ax.set_xlabel('Rok')\n",
        "ax.set_ylabel('Populacja [mln]')\n",
        "\n",
        "# Ustawienie etykiet osi X, aby wyświetlały tylko konkretne lata\n",
        "ax.set_xticks([2000, 2001, 2002, 2003])\n",
        "\n",
        "plt.legend()"
      ],
      "metadata": {
        "colab": {
          "base_uri": "https://localhost:8080/",
          "height": 507
        },
        "id": "ca411143-7ca2-4c3e-8a79-adc4b7a37ac0",
        "outputId": "c9c432a9-938a-4789-d41f-b7e3709a306f",
        "executionCancelledAt": null,
        "executionTime": 274,
        "lastExecutedAt": 1728474316012,
        "lastExecutedByKernel": "d980cdc8-acc8-4bea-ae4a-f83d53c7976d",
        "lastScheduledRunId": null,
        "lastSuccessfullyExecutedCode": "fig, ax = plt.subplots()\nohio_data.plot(x='year', y='pop', marker='o', linestyle='-', color='b', label=\"Ohio\", ax=ax)\nnevada_data.plot(x='year', y='pop', marker='o', linestyle='-', color='r', label=\"Nevada\", ax=ax)\nax.set_title('Rok vs Populacja dla Ohio i Nevady')\nax.set_xlabel('Rok')\nax.set_ylabel('Populacja [mln]')\n\n# Ustawienie etykiet osi X, aby wyświetlały tylko konkretne lata\nax.set_xticks([2000, 2001, 2002, 2003])\n\nplt.legend()"
      },
      "id": "ca411143-7ca2-4c3e-8a79-adc4b7a37ac0",
      "cell_type": "code",
      "execution_count": null,
      "outputs": [
        {
          "output_type": "execute_result",
          "data": {
            "text/plain": [
              "<matplotlib.legend.Legend at 0x78b5f688ab90>"
            ]
          },
          "metadata": {},
          "execution_count": 20
        },
        {
          "output_type": "display_data",
          "data": {
            "text/plain": [
              "<Figure size 640x480 with 1 Axes>"
            ],
            "image/png": "[encoded data removed]"
          },
          "metadata": {}
        }
      ]
    },
    {
      "source": [
        "# Filtracja danych\n",
        "ohio_data = frame[(frame['state'] == 'Ohio') & (frame['year'].isin([2001, 2002]))]\n",
        "nevada_data = frame[(frame['state'] == 'Nevada') & (frame['year'].isin([2001, 2002]))]\n",
        "\n",
        "# Tworzenie wykresu\n",
        "plt.plot(ohio_data['year'], ohio_data['pop'], marker='o', linestyle='-', color='b',\n",
        "        label=\"Ohio\")\n",
        "plt.plot(nevada_data['year'], nevada_data['pop'], marker='o', linestyle='-', color='r',\n",
        "        label=\"Nevada\")\n",
        "plt.title('Rok vs Populacja dla Ohio i Nevady')\n",
        "plt.xlabel('Rok')\n",
        "plt.ylabel('Populacja [mln]')\n",
        "\n",
        "# Ustawienie etykiet osi X, aby wyświetlały tylko konkretne lata\n",
        "plt.xticks([2001, 2002])\n",
        "plt.ylim([1.5, 3.8])\n",
        "plt.legend()"
      ],
      "metadata": {
        "colab": {
          "base_uri": "https://localhost:8080/",
          "height": 507
        },
        "id": "100db69f-2317-458a-be12-f2dbbd84f311",
        "outputId": "5a1d0952-a548-4257-ba02-21513a2cd245",
        "executionCancelledAt": null,
        "executionTime": 253,
        "lastExecutedAt": 1728474325241,
        "lastExecutedByKernel": "d980cdc8-acc8-4bea-ae4a-f83d53c7976d",
        "lastScheduledRunId": null,
        "lastSuccessfullyExecutedCode": "# Filtracja danych\nohio_data = frame[(frame['state'] == 'Ohio') & (frame['year'].isin([2001, 2002]))]\nnevada_data = frame[(frame['state'] == 'Nevada') & (frame['year'].isin([2001, 2002]))]\n\n# Tworzenie wykresu\nplt.plot(ohio_data['year'], ohio_data['pop'], marker='o', linestyle='-', color='b',\n        label=\"Ohio\")\nplt.plot(nevada_data['year'], nevada_data['pop'], marker='o', linestyle='-', color='r',\n        label=\"Nevada\")\nplt.title('Rok vs Populacja dla Ohio i Nevady')\nplt.xlabel('Rok')\nplt.ylabel('Populacja [mln]')\n\n# Ustawienie etykiet osi X, aby wyświetlały tylko konkretne lata\nplt.xticks([2001, 2002])\nplt.ylim([1.5, 3.8])\nplt.legend()"
      },
      "id": "100db69f-2317-458a-be12-f2dbbd84f311",
      "cell_type": "code",
      "execution_count": null,
      "outputs": [
        {
          "output_type": "execute_result",
          "data": {
            "text/plain": [
              "<matplotlib.legend.Legend at 0x78b5f6756920>"
            ]
          },
          "metadata": {},
          "execution_count": 21
        },
        {
          "output_type": "display_data",
          "data": {
            "text/plain": [
              "<Figure size 640x480 with 1 Axes>"
            ],
            "image/png": "[encoded data removed]"
          },
          "metadata": {}
        }
      ]
    },
    {
      "source": [
        "# Zapisywanie DataFrame do pliku CSV\n",
        "frame.to_csv('pop_Ohio_Nevada.csv', index=False)"
      ],
      "metadata": {
        "id": "6993eda5-403f-4895-abc3-42a70b0cf7cc",
        "executionCancelledAt": null,
        "executionTime": 48,
        "lastExecutedAt": 1728474339808,
        "lastExecutedByKernel": "d980cdc8-acc8-4bea-ae4a-f83d53c7976d",
        "lastScheduledRunId": null,
        "lastSuccessfullyExecutedCode": "# Zapisywanie DataFrame do pliku CSV\nframe.to_csv('pop_Ohio_Nevada.csv', index=False)"
      },
      "id": "6993eda5-403f-4895-abc3-42a70b0cf7cc",
      "cell_type": "code",
      "execution_count": 12,
      "outputs": []
    },
    {
      "source": [
        "! pwd"
      ],
      "metadata": {
        "colab": {
          "base_uri": "https://localhost:8080/"
        },
        "id": "50e9da68-611f-44e1-9309-aeddb79e724b",
        "outputId": "0e3aaf6a-d206-4e61-defe-31b6864f20d1",
        "outputsMetadata": {
          "0": {
            "height": 38,
            "type": "stream"
          }
        },
        "executionCancelledAt": null,
        "executionTime": 148,
        "lastExecutedAt": 1728474360058,
        "lastExecutedByKernel": "d980cdc8-acc8-4bea-ae4a-f83d53c7976d",
        "lastScheduledRunId": null,
        "lastSuccessfullyExecutedCode": "! pwd"
      },
      "id": "50e9da68-611f-44e1-9309-aeddb79e724b",
      "cell_type": "code",
      "execution_count": null,
      "outputs": [
        {
          "output_type": "stream",
          "name": "stdout",
          "text": [
            "/content\n"
          ]
        }
      ]
    },
    {
      "source": [
        "df = pd.read_csv(\"pop_Ohio_Nevada.csv\")"
      ],
      "metadata": {
        "id": "650d447f-9eee-4a2e-8ffc-0a1cd738c00d",
        "executionCancelledAt": null,
        "executionTime": 46,
        "lastExecutedAt": 1728474364644,
        "lastExecutedByKernel": "d980cdc8-acc8-4bea-ae4a-f83d53c7976d",
        "lastScheduledRunId": null,
        "lastSuccessfullyExecutedCode": "df = pd.read_csv(\"pop_Ohio_Nevada.csv\")",
        "colab": {
          "base_uri": "https://localhost:8080/",
          "height": 287
        },
        "outputId": "06765d92-76f6-4869-d8c4-1b2900b7ef9a"
      },
      "id": "650d447f-9eee-4a2e-8ffc-0a1cd738c00d",
      "cell_type": "code",
      "execution_count": 3,
      "outputs": [
        {
          "output_type": "error",
          "ename": "FileNotFoundError",
          "evalue": "[Errno 2] No such file or directory: 'pop_Ohio_Nevada.csv'",
          "traceback": [
            "\u001b[0;31m---------------------------------------------------------------------------\u001b[0m",
            "\u001b[0;31mFileNotFoundError\u001b[0m                         Traceback (most recent call last)",
            "\u001b[0;32m/tmp/ipython-input-1671730353.py\u001b[0m in \u001b[0;36m<cell line: 0>\u001b[0;34m()\u001b[0m\n\u001b[0;32m----> 1\u001b[0;31m \u001b[0mdf\u001b[0m \u001b[0;34m=\u001b[0m \u001b[0mpd\u001b[0m\u001b[0;34m.\u001b[0m\u001b[0mread_csv\u001b[0m\u001b[0;34m(\u001b[0m\u001b[0;34m\"pop_Ohio_Nevada.csv\"\u001b[0m\u001b[0;34m)\u001b[0m\u001b[0;34m\u001b[0m\u001b[0;34m\u001b[0m\u001b[0m\n\u001b[0m",
            "\u001b[0;32m/usr/local/lib/python3.12/dist-packages/pandas/io/parsers/readers.py\u001b[0m in \u001b[0;36mread_csv\u001b[0;34m(filepath_or_buffer, sep, delimiter, header, names, index_col, usecols, dtype, engine, converters, true_values, false_values, skipinitialspace, skiprows, skipfooter, nrows, na_values, keep_default_na, na_filter, verbose, skip_blank_lines, parse_dates, infer_datetime_format, keep_date_col, date_parser, date_format, dayfirst, cache_dates, iterator, chunksize, compression, thousands, decimal, lineterminator, quotechar, quoting, doublequote, escapechar, comment, encoding, encoding_errors, dialect, on_bad_lines, delim_whitespace, low_memory, memory_map, float_precision, storage_options, dtype_backend)\u001b[0m\n\u001b[1;32m   1024\u001b[0m     \u001b[0mkwds\u001b[0m\u001b[0;34m.\u001b[0m\u001b[0mupdate\u001b[0m\u001b[0;34m(\u001b[0m\u001b[0mkwds_defaults\u001b[0m\u001b[0;34m)\u001b[0m\u001b[0;34m\u001b[0m\u001b[0;34m\u001b[0m\u001b[0m\n\u001b[1;32m   1025\u001b[0m \u001b[0;34m\u001b[0m\u001b[0m\n\u001b[0;32m-> 1026\u001b[0;31m     \u001b[0;32mreturn\u001b[0m \u001b[0m_read\u001b[0m\u001b[0;34m(\u001b[0m\u001b[0mfilepath_or_buffer\u001b[0m\u001b[0;34m,\u001b[0m \u001b[0mkwds\u001b[0m\u001b[0;34m)\u001b[0m\u001b[0;34m\u001b[0m\u001b[0;34m\u001b[0m\u001b[0m\n\u001b[0m\u001b[1;32m   1027\u001b[0m \u001b[0;34m\u001b[0m\u001b[0m\n\u001b[1;32m   1028\u001b[0m \u001b[0;34m\u001b[0m\u001b[0m\n",
            "\u001b[0;32m/usr/local/lib/python3.12/dist-packages/pandas/io/parsers/readers.py\u001b[0m in \u001b[0;36m_read\u001b[0;34m(filepath_or_buffer, kwds)\u001b[0m\n\u001b[1;32m    618\u001b[0m \u001b[0;34m\u001b[0m\u001b[0m\n\u001b[1;32m    619\u001b[0m     \u001b[0;31m# Create the parser.\u001b[0m\u001b[0;34m\u001b[0m\u001b[0;34m\u001b[0m\u001b[0m\n\u001b[0;32m--> 620\u001b[0;31m     \u001b[0mparser\u001b[0m \u001b[0;34m=\u001b[0m \u001b[0mTextFileReader\u001b[0m\u001b[0;34m(\u001b[0m\u001b[0mfilepath_or_buffer\u001b[0m\u001b[0;34m,\u001b[0m \u001b[0;34m**\u001b[0m\u001b[0mkwds\u001b[0m\u001b[0;34m)\u001b[0m\u001b[0;34m\u001b[0m\u001b[0;34m\u001b[0m\u001b[0m\n\u001b[0m\u001b[1;32m    621\u001b[0m \u001b[0;34m\u001b[0m\u001b[0m\n\u001b[1;32m    622\u001b[0m     \u001b[0;32mif\u001b[0m \u001b[0mchunksize\u001b[0m \u001b[0;32mor\u001b[0m \u001b[0miterator\u001b[0m\u001b[0;34m:\u001b[0m\u001b[0;34m\u001b[0m\u001b[0;34m\u001b[0m\u001b[0m\n",
            "\u001b[0;32m/usr/local/lib/python3.12/dist-packages/pandas/io/parsers/readers.py\u001b[0m in \u001b[0;36m__init__\u001b[0;34m(self, f, engine, **kwds)\u001b[0m\n\u001b[1;32m   1618\u001b[0m \u001b[0;34m\u001b[0m\u001b[0m\n\u001b[1;32m   1619\u001b[0m         \u001b[0mself\u001b[0m\u001b[0;34m.\u001b[0m\u001b[0mhandles\u001b[0m\u001b[0;34m:\u001b[0m \u001b[0mIOHandles\u001b[0m \u001b[0;34m|\u001b[0m \u001b[0;32mNone\u001b[0m \u001b[0;34m=\u001b[0m \u001b[0;32mNone\u001b[0m\u001b[0;34m\u001b[0m\u001b[0;34m\u001b[0m\u001b[0m\n\u001b[0;32m-> 1620\u001b[0;31m         \u001b[0mself\u001b[0m\u001b[0;34m.\u001b[0m\u001b[0m_engine\u001b[0m \u001b[0;34m=\u001b[0m \u001b[0mself\u001b[0m\u001b[0;34m.\u001b[0m\u001b[0m_make_engine\u001b[0m\u001b[0;34m(\u001b[0m\u001b[0mf\u001b[0m\u001b[0;34m,\u001b[0m \u001b[0mself\u001b[0m\u001b[0;34m.\u001b[0m\u001b[0mengine\u001b[0m\u001b[0;34m)\u001b[0m\u001b[0;34m\u001b[0m\u001b[0;34m\u001b[0m\u001b[0m\n\u001b[0m\u001b[1;32m   1621\u001b[0m \u001b[0;34m\u001b[0m\u001b[0m\n\u001b[1;32m   1622\u001b[0m     \u001b[0;32mdef\u001b[0m \u001b[0mclose\u001b[0m\u001b[0;34m(\u001b[0m\u001b[0mself\u001b[0m\u001b[0;34m)\u001b[0m \u001b[0;34m->\u001b[0m \u001b[0;32mNone\u001b[0m\u001b[0;34m:\u001b[0m\u001b[0;34m\u001b[0m\u001b[0;34m\u001b[0m\u001b[0m\n",
            "\u001b[0;32m/usr/local/lib/python3.12/dist-packages/pandas/io/parsers/readers.py\u001b[0m in \u001b[0;36m_make_engine\u001b[0;34m(self, f, engine)\u001b[0m\n\u001b[1;32m   1878\u001b[0m                 \u001b[0;32mif\u001b[0m \u001b[0;34m\"b\"\u001b[0m \u001b[0;32mnot\u001b[0m \u001b[0;32min\u001b[0m \u001b[0mmode\u001b[0m\u001b[0;34m:\u001b[0m\u001b[0;34m\u001b[0m\u001b[0;34m\u001b[0m\u001b[0m\n\u001b[1;32m   1879\u001b[0m                     \u001b[0mmode\u001b[0m \u001b[0;34m+=\u001b[0m \u001b[0;34m\"b\"\u001b[0m\u001b[0;34m\u001b[0m\u001b[0;34m\u001b[0m\u001b[0m\n\u001b[0;32m-> 1880\u001b[0;31m             self.handles = get_handle(\n\u001b[0m\u001b[1;32m   1881\u001b[0m                 \u001b[0mf\u001b[0m\u001b[0;34m,\u001b[0m\u001b[0;34m\u001b[0m\u001b[0;34m\u001b[0m\u001b[0m\n\u001b[1;32m   1882\u001b[0m                 \u001b[0mmode\u001b[0m\u001b[0;34m,\u001b[0m\u001b[0;34m\u001b[0m\u001b[0;34m\u001b[0m\u001b[0m\n",
            "\u001b[0;32m/usr/local/lib/python3.12/dist-packages/pandas/io/common.py\u001b[0m in \u001b[0;36mget_handle\u001b[0;34m(path_or_buf, mode, encoding, compression, memory_map, is_text, errors, storage_options)\u001b[0m\n\u001b[1;32m    871\u001b[0m         \u001b[0;32mif\u001b[0m \u001b[0mioargs\u001b[0m\u001b[0;34m.\u001b[0m\u001b[0mencoding\u001b[0m \u001b[0;32mand\u001b[0m \u001b[0;34m\"b\"\u001b[0m \u001b[0;32mnot\u001b[0m \u001b[0;32min\u001b[0m \u001b[0mioargs\u001b[0m\u001b[0;34m.\u001b[0m\u001b[0mmode\u001b[0m\u001b[0;34m:\u001b[0m\u001b[0;34m\u001b[0m\u001b[0;34m\u001b[0m\u001b[0m\n\u001b[1;32m    872\u001b[0m             \u001b[0;31m# Encoding\u001b[0m\u001b[0;34m\u001b[0m\u001b[0;34m\u001b[0m\u001b[0m\n\u001b[0;32m--> 873\u001b[0;31m             handle = open(\n\u001b[0m\u001b[1;32m    874\u001b[0m                 \u001b[0mhandle\u001b[0m\u001b[0;34m,\u001b[0m\u001b[0;34m\u001b[0m\u001b[0;34m\u001b[0m\u001b[0m\n\u001b[1;32m    875\u001b[0m                 \u001b[0mioargs\u001b[0m\u001b[0;34m.\u001b[0m\u001b[0mmode\u001b[0m\u001b[0;34m,\u001b[0m\u001b[0;34m\u001b[0m\u001b[0;34m\u001b[0m\u001b[0m\n",
            "\u001b[0;31mFileNotFoundError\u001b[0m: [Errno 2] No such file or directory: 'pop_Ohio_Nevada.csv'"
          ]
        }
      ]
    },
    {
      "source": [
        "df"
      ],
      "metadata": {
        "colab": {
          "base_uri": "https://localhost:8080/",
          "height": 141
        },
        "id": "fdb92e09-34f6-4521-9b80-8086a2623e56",
        "outputId": "c49e10b7-483e-46ea-8512-02878fff2dd9",
        "executionCancelledAt": null,
        "executionTime": null,
        "lastExecutedAt": null,
        "lastExecutedByKernel": null,
        "lastScheduledRunId": null,
        "lastSuccessfullyExecutedCode": null,
        "outputsMetadata": {
          "0": {
            "height": 250,
            "type": "dataFrame"
          }
        }
      },
      "id": "fdb92e09-34f6-4521-9b80-8086a2623e56",
      "cell_type": "code",
      "execution_count": null,
      "outputs": [
        {
          "output_type": "error",
          "ename": "NameError",
          "evalue": "name 'df' is not defined",
          "traceback": [
            "\u001b[0;31m---------------------------------------------------------------------------\u001b[0m",
            "\u001b[0;31mNameError\u001b[0m                                 Traceback (most recent call last)",
            "\u001b[0;32m/tmp/ipython-input-1396537375.py\u001b[0m in \u001b[0;36m<cell line: 0>\u001b[0;34m()\u001b[0m\n\u001b[0;32m----> 1\u001b[0;31m \u001b[0mdf\u001b[0m\u001b[0;34m\u001b[0m\u001b[0;34m\u001b[0m\u001b[0m\n\u001b[0m",
            "\u001b[0;31mNameError\u001b[0m: name 'df' is not defined"
          ]
        }
      ]
    },
    {
      "source": [
        "# **Zadanie dla chętnych**\n",
        "\n",
        "## Cel\n",
        "\n",
        "Stworzenie wykresu słupkowego (bar plot) przedstawiającego populację stanów Ohio i Nevada w latach 2001 i 2002, używając danych z pliku CSV i języka Python.\n",
        "\n",
        "## Dane\n",
        "\n",
        "Dane są przechowywane w pliku `pop_Ohio_Nevada.csv`, który zawiera trzy kolumny: `state`, `year` i `pop`.\n",
        "\n",
        "## Instrukcje\n",
        "\n",
        "1. Wczytaj dane do DataFrame z pliku `pop_Ohio_Nevada.csv`.\n",
        "2. Przefiltruj dane, aby zawierały tylko informacje o stanie Ohio i Nevada dla lat 2001 i 2002.\n",
        "3. Utwórz wykres słupkowy, na którym będą przedstawione dwie grupy słupków - jedna dla Ohio i druga dla Nevada. Każda grupa powinna zawierać słupki dla roku 2001 i 2002.\n",
        "4. Dodaj etykiety do osi X i Y, tytuł wykresu oraz legendę.\n",
        "\n",
        "\n",
        "![bar_plot_pop_US(1).png](data:image/png;base64,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)"
      ],
      "metadata": {
        "id": "7b433e6f-4cfc-4b8c-aa59-11d352dd4d46"
      },
      "id": "7b433e6f-4cfc-4b8c-aa59-11d352dd4d46",
      "cell_type": "markdown"
    },
    {
      "cell_type": "code",
      "source": [
        "import pandas as pd\n",
        "import matplotlib.pyplot as plt\n",
        "\n",
        "df = pd.read_csv('pop_Ohio_Nevada.csv')\n",
        "\n",
        "data = df[(df['state'].isin(['Ohio', 'Nevada'])) & (df['year'].isin([2001, 2002]))]\n",
        "\n",
        "ohio_2001 = data[(data['state'] == 'Ohio') & (data['year'] == 2001)]['pop'].values[0]\n",
        "ohio_2002 = data[(data['state'] == 'Ohio') & (data['year'] == 2002)]['pop'].values[0]\n",
        "nevada_2001 = data[(data['state'] == 'Nevada') & (data['year'] == 2001)]['pop'].values[0]\n",
        "nevada_2002 = data[(data['state'] == 'Nevada') & (data['year'] == 2002)]['pop'].values[0]\n",
        "\n",
        "x = ['2001', '2002']\n",
        "ohio_pop = [ohio_2001, ohio_2002]\n",
        "nevada_pop = [nevada_2001, nevada_2002]\n",
        "\n",
        "fig, ax = plt.subplots(figsize=(10, 6))\n",
        "\n",
        "x_pos = [0, 1]\n",
        "width = 0.35\n",
        "\n",
        "bars1 = ax.bar([p - width/2 for p in x_pos], ohio_pop, width, label='Ohio')\n",
        "bars2 = ax.bar([p + width/2 for p in x_pos], nevada_pop, width, label='Nevada')\n",
        "\n",
        "plt.title('Rok vs Populacja dla Ohio i Nevady')\n",
        "plt.xlabel('Rok')\n",
        "plt.ylabel('Populacja [mln]')\n",
        "ax.set_xticks(x_pos)\n",
        "ax.set_xticklabels(x)\n",
        "ax.legend()\n",
        "\n",
        "plt.tight_layout()\n",
        "plt.show()\n",
        "print(data)"
      ],
      "metadata": {
        "id": "69Q9EEeObz8b",
        "colab": {
          "base_uri": "https://localhost:8080/",
          "height": 694
        },
        "outputId": "6e35d03b-601c-432f-a993-12a02ee727e7"
      },
      "id": "69Q9EEeObz8b",
      "execution_count": 14,
      "outputs": [
        {
          "output_type": "display_data",
          "data": {
            "text/plain": [
              "<Figure size 1000x600 with 1 Axes>"
            ],
            "image/png": "[encoded data removed]"
          },
          "metadata": {}
        },
        {
          "output_type": "stream",
          "name": "stdout",
          "text": [
            "    state  year  pop\n",
            "1    Ohio  2001  1.7\n",
            "2    Ohio  2002  3.6\n",
            "3  Nevada  2001  2.4\n",
            "4  Nevada  2002  2.9\n"
          ]
        }
      ]
    },
    {
      "source": [
        "# **Zadanie na zajęcia**\n",
        "\n",
        "\n"
      ],
      "metadata": {
        "id": "35c51041-8568-4a14-824a-132ee314162b"
      },
      "id": "35c51041-8568-4a14-824a-132ee314162b",
      "cell_type": "markdown"
    },
    {
      "cell_type": "markdown",
      "source": [
        "## Zadanie 1\n",
        "\n",
        "### Cel:\n",
        "Stworzenie słownika z danymi populacyjnymi, przekształcenie go w DataFrame i eksport do pliku CSV.\n",
        "\n",
        "### Dane:\n",
        "Liczba mieszkańców Warszawy i Łodzi w wybranych latach:\n",
        "\n",
        "| Rok   | Warszawa   | Łódź         |\n",
        "|-------|------------|--------------|\n",
        "| 2002  | 1 672 000  | 789 318      |\n",
        "| 2011  | 1 707 000  | 728 892      |\n",
        "| 2015  | 1 740 000  | Brak danych  |\n",
        "| 2022  | 1 795 000  | 670 642      |\n",
        "\n",
        "### Polecenia:\n",
        "\n",
        "1. Przekształć powyższą tabelę w słownik Pythona (kolumny jako klucze, dane jako listy wartości)\n",
        "2. Utwórz DataFrame z biblioteki pandas na podstawie słownika\n",
        "3. Zapisz DataFrame do pliku CSV o nazwie `populacja_miast.csv`"
      ],
      "metadata": {
        "id": "xTNk71QfaPhA"
      },
      "id": "xTNk71QfaPhA"
    },
    {
      "source": [
        "import pandas as pd\n",
        "import numpy as np\n",
        "\n",
        "dane_populacji = {\n",
        "    'Rok': [2002, 2011, 2015, 2022],\n",
        "    'Warszawa': [1672000, 1707000, 1740000, 1795000],\n",
        "    'Łódź': [789318, 728892, np.nan, 670642]\n",
        "}\n",
        "\n",
        "df = pd.DataFrame(dane_populacji)\n",
        "\n",
        "print(\"DataFrame z danymi populacyjnymi:\")\n",
        "print(df)\n",
        "print(\"\\n\")\n",
        "\n",
        "print(\"Informacje o DataFrame:\")\n",
        "print(df.info())\n",
        "print(\"\\n\")\n",
        "\n",
        "df.to_csv('populacja_miast.csv', index=False)\n",
        "print(\"✓ Dane zapisane do pliku 'populacja_miast.csv'\")\n",
        "\n",
        "print(\"\\n\")\n",
        "print(\"Weryfikacja - wczytanie z pliku CSV:\")\n",
        "print(\"\\n\")\n",
        "df_odczyt = pd.read_csv('populacja_miast.csv')\n",
        "print(df_odczyt)"
      ],
      "metadata": {
        "id": "9fc7fd59-8e59-48ff-b884-e5caa02bfff7",
        "colab": {
          "base_uri": "https://localhost:8080/"
        },
        "outputId": "36cc52f8-14f1-4a5c-ed5b-b54da4bacf67"
      },
      "id": "9fc7fd59-8e59-48ff-b884-e5caa02bfff7",
      "cell_type": "code",
      "execution_count": null,
      "outputs": [
        {
          "output_type": "stream",
          "name": "stdout",
          "text": [
            "DataFrame z danymi populacyjnymi:\n",
            "    Rok  Warszawa      Łódź\n",
            "0  2002   1672000  789318.0\n",
            "1  2011   1707000  728892.0\n",
            "2  2015   1740000       NaN\n",
            "3  2022   1795000  670642.0\n",
            "\n",
            "==================================================\n",
            "\n",
            "Informacje o DataFrame:\n",
            "<class 'pandas.core.frame.DataFrame'>\n",
            "RangeIndex: 4 entries, 0 to 3\n",
            "Data columns (total 3 columns):\n",
            " #   Column    Non-Null Count  Dtype  \n",
            "---  ------    --------------  -----  \n",
            " 0   Rok       4 non-null      int64  \n",
            " 1   Warszawa  4 non-null      int64  \n",
            " 2   Łódź      3 non-null      float64\n",
            "dtypes: float64(1), int64(2)\n",
            "memory usage: 228.0 bytes\n",
            "None\n",
            "\n",
            "==================================================\n",
            "\n",
            "✓ Dane zapisane do pliku 'populacja_miast.csv'\n",
            "\n",
            "==================================================\n",
            "Weryfikacja - wczytanie z pliku CSV:\n",
            "==================================================\n",
            "    Rok  Warszawa      Łódź\n",
            "0  2002   1672000  789318.0\n",
            "1  2011   1707000  728892.0\n",
            "2  2015   1740000       NaN\n",
            "3  2022   1795000  670642.0\n"
          ]
        }
      ]
    },
    {
      "source": [
        "## Zadanie 2\n",
        "\n",
        "### Cel:\n",
        "Celem tego zadania jest wczytanie danych z pliku CSV, analiza i wizualizacja tych danych na wykresach liniowych.\n",
        "\n",
        "### Zadania:\n",
        "1. Wczytaj dane z pliku `populacja_miast.csv` do DataFrame przy użyciu biblioteki pandas.\n",
        "2. Stwórz wykres liniowy, który pokaże, jak zmieniała się populacja Warszawy i Łodzi na przestrzeni lat.\n",
        "3. Stwórz drugi wykres liniowy, który pokaże zmiany populacji tylko dla lat 2002, 2011 i 2022."
      ],
      "metadata": {
        "id": "bb72c7a2-3038-4a86-a4d4-4408a7d8cae0"
      },
      "cell_type": "markdown",
      "id": "bb72c7a2-3038-4a86-a4d4-4408a7d8cae0"
    },
    {
      "source": [
        "import pandas as pd\n",
        "import matplotlib.pyplot as plt\n",
        "\n",
        "df = pd.read_csv('populacja_miast.csv')\n",
        "\n",
        "print(\"Pierwsze wiersze danych:\")\n",
        "print(df.head())\n",
        "print(\"\\nInformacje o danych:\")\n",
        "print(df.info())\n",
        "\n",
        "plt.figure(figsize=(12, 6))\n",
        "plt.plot(df['Rok'], df['Warszawa'], marker='o', label='Warszawa', linewidth=2)\n",
        "plt.plot(df['Rok'], df['Łódź'], marker='s', label='Łódź', linewidth=2)\n",
        "plt.xlabel('Rok', fontsize=12)\n",
        "plt.ylabel('Populacja', fontsize=12)\n",
        "plt.title('Zmiany populacji Warszawy i Łodzi na przestrzeni lat', fontsize=14)\n",
        "plt.legend(fontsize=10)\n",
        "plt.grid(True, alpha=0.3)\n",
        "plt.tight_layout()\n",
        "plt.savefig('wykres_populacja_wszystkie_lata.png', dpi=300)\n",
        "plt.show()\n",
        "\n",
        "lata_wybrane = [2002, 2011, 2022]\n",
        "df_filtrowany = df[df['Rok'].isin(lata_wybrane)]\n",
        "\n",
        "plt.figure(figsize=(10, 6))\n",
        "plt.plot(df_filtrowany['Rok'], df_filtrowany['Warszawa'],\n",
        "         marker='o', label='Warszawa', linewidth=2, markersize=10)\n",
        "plt.plot(df_filtrowany['Rok'], df_filtrowany['Łódź'],\n",
        "         marker='s', label='Łódź', linewidth=2, markersize=10)\n",
        "plt.xlabel('Rok', fontsize=12)\n",
        "plt.ylabel('Populacja', fontsize=12)\n",
        "plt.title('Zmiany populacji Warszawy i Łodzi w latach 2002, 2011 i 2022', fontsize=14)\n",
        "plt.legend(fontsize=10)\n",
        "plt.grid(True, alpha=0.3)\n",
        "plt.xticks(lata_wybrane)\n",
        "plt.tight_layout()\n",
        "plt.savefig('wykres_populacja_wybrane_lata.png', dpi=300)\n",
        "plt.show()\n",
        "\n",
        "print(\"\\nWykresy zostały zapisane jako:\")\n",
        "print(\"- wykres_populacja_wszystkie_lata.png\")\n",
        "print(\"- wykres_populacja_wybrane_lata.png\")"
      ],
      "metadata": {
        "id": "88888a49-5613-4e34-8e2f-d35c883facfd",
        "colab": {
          "base_uri": "https://localhost:8080/",
          "height": 1000
        },
        "outputId": "a2e8386d-6b68-433a-918d-2af090382ea1"
      },
      "id": "88888a49-5613-4e34-8e2f-d35c883facfd",
      "cell_type": "code",
      "execution_count": null,
      "outputs": [
        {
          "output_type": "stream",
          "name": "stdout",
          "text": [
            "Pierwsze wiersze danych:\n",
            "    Rok  Warszawa      Łódź\n",
            "0  2002   1672000  789318.0\n",
            "1  2011   1707000  728892.0\n",
            "2  2015   1740000       NaN\n",
            "3  2022   1795000  670642.0\n",
            "\n",
            "Informacje o danych:\n",
            "<class 'pandas.core.frame.DataFrame'>\n",
            "RangeIndex: 4 entries, 0 to 3\n",
            "Data columns (total 3 columns):\n",
            " #   Column    Non-Null Count  Dtype  \n",
            "---  ------    --------------  -----  \n",
            " 0   Rok       4 non-null      int64  \n",
            " 1   Warszawa  4 non-null      int64  \n",
            " 2   Łódź      3 non-null      float64\n",
            "dtypes: float64(1), int64(2)\n",
            "memory usage: 228.0 bytes\n",
            "None\n"
          ]
        },
        {
          "output_type": "display_data",
          "data": {
            "text/plain": [
              "<Figure size 1200x600 with 1 Axes>"
            ],
            "image/png": "[encoded data removed]"
          },
          "metadata": {}
        },
        {
          "output_type": "display_data",
          "data": {
            "text/plain": [
              "<Figure size 1000x600 with 1 Axes>"
            ],
            "image/png": "[encoded data removed]"
          },
          "metadata": {}
        },
        {
          "output_type": "stream",
          "name": "stdout",
          "text": [
            "\n",
            "Wykresy zostały zapisane jako:\n",
            "- wykres_populacja_wszystkie_lata.png\n",
            "- wykres_populacja_wybrane_lata.png\n"
          ]
        }
      ]
    },
    {
      "source": [],
      "metadata": {
        "id": "5184e6ed-67db-4686-8ffe-983e47a54930"
      },
      "id": "5184e6ed-67db-4686-8ffe-983e47a54930",
      "cell_type": "code",
      "execution_count": null,
      "outputs": []
    },
    {
      "source": [],
      "metadata": {
        "id": "c62e3648-9a6b-4c03-9522-55ecf8591ec4"
      },
      "id": "c62e3648-9a6b-4c03-9522-55ecf8591ec4",
      "cell_type": "code",
      "execution_count": null,
      "outputs": []
    },
    {
      "source": [],
      "metadata": {
        "id": "98ae7900-4e03-47d1-9892-23e84d786117"
      },
      "id": "98ae7900-4e03-47d1-9892-23e84d786117",
      "cell_type": "code",
      "execution_count": null,
      "outputs": []
    }
  ],
  "metadata": {
    "language_info": {
      "name": "python",
      "version": "3.10.12",
      "mimetype": "text/x-python",
      "codemirror_mode": {
        "name": "ipython",
        "version": 3
      },
      "pygments_lexer": "ipython3",
      "nbconvert_exporter": "python",
      "file_extension": ".py"
    },
    "kernelspec": {
      "display_name": "Python 3 (ipykernel)",
      "language": "python",
      "name": "python3"
    },
    "editor": "DataLab",
    "colab": {
      "provenance": [],
      "include_colab_link": true
    }
  },
  "nbformat": 4,
  "nbformat_minor": 5
}